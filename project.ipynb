{
 "cells": [
  {
   "cell_type": "markdown",
   "metadata": {},
   "source": [
    "# Global energy statistics visualisation\n",
    "\n",
    "This jupyter notebook has been created to visualise the global energy statistics dataset from this kaggle dataset: https://www.kaggle.com/datasets/akhiljethwa/global-electricity-statistics/"
   ]
  },
  {
   "cell_type": "markdown",
   "metadata": {},
   "source": [
    "## Module Loading and Data Import"
   ]
  },
  {
   "cell_type": "code",
   "execution_count": 1,
   "metadata": {},
   "outputs": [],
   "source": [
    "# For Data Analysis\n",
    "import numpy as np\n",
    "import pandas as pd\n",
    "import matplotlib.pyplot as plt\n",
    "import seaborn as sns\n",
    "\n",
    "# For Data Visualization\n",
    "import plotly.express as px\n",
    "import plotly.io as pio\n",
    "\n",
    "# Addidtional Imports\n",
    "from termcolor import colored\n",
    "import country_converter as coco\n",
    "import datetime\n",
    "import calendar\n",
    "import json"
   ]
  },
  {
   "cell_type": "code",
   "execution_count": 2,
   "metadata": {},
   "outputs": [],
   "source": [
    "# Set Plotly Template\n",
    "pio.templates.default = \"plotly_dark\""
   ]
  },
  {
   "cell_type": "code",
   "execution_count": 3,
   "metadata": {},
   "outputs": [],
   "source": [
    "data = pd.read_csv(\"./data/Global Electricity Statistics.csv\")\n",
    "#map_json = json.load(open(\"./data/countries.json\", \"r\"))"
   ]
  },
  {
   "cell_type": "markdown",
   "metadata": {},
   "source": [
    "## Preparing dataframes"
   ]
  },
  {
   "cell_type": "markdown",
   "metadata": {},
   "source": [
    "For our visualization we will need to preprocess our data a little.\n",
    "\n",
    "**Get list of countries from geojson and prepare dataframe with Country and Year columns**\n",
    "\n",
    "To get countries:\n",
    "- iterate over \"features\" in map gejson and extract \"geounit\" name form feature's \"properties\"\n",
    "- use set() to remove possible duplicates\n",
    "- you can use asterisk (*) to unpack iterables into a list\n",
    "- sort countries by name "
   ]
  },
  {
   "cell_type": "code",
   "execution_count": 4,
   "metadata": {},
   "outputs": [],
   "source": [
    "# countries = []\n",
    "# \n",
    "# for feature in map_json[\"features\"]:\n",
    "#       countries.append(feature[\"properties\"][\"geounit\"])\n",
    "# \n",
    "# countries=[*set(countries)]\n",
    "# countries.sort()"
   ]
  },
  {
   "cell_type": "markdown",
   "metadata": {},
   "source": [
    "Now lets create dataframe, that will have columns Country and Year and **one row for every country-year combination in years 1942-2022** (those present in the dataset).\n",
    "We can get this by:\n",
    "- creating dataframe with countries (just turn the list into df)\n",
    "- creating dataframe with years (creat list of years and turn it to df)\n",
    "- creating a Caretsian product of the two dataframes"
   ]
  },
  {
   "cell_type": "code",
   "execution_count": 5,
   "metadata": {},
   "outputs": [],
   "source": [
    "# country_df = pd.DataFrame(countries, columns =['Country'])\n",
    "# year_df = pd.DataFrame(list(range(1980, 2022)), columns =['Year'])\n",
    "# \n",
    "# countries_df = country_df.merge(year_df, how='cross')"
   ]
  },
  {
   "cell_type": "markdown",
   "metadata": {},
   "source": [
    "## Filling the Dataframes (Splitting, Aggregation, Counting, ...)"
   ]
  },
  {
   "cell_type": "code",
   "execution_count": 6,
   "metadata": {},
   "outputs": [
    {
     "data": {
      "text/html": [
       "<div>\n",
       "<style scoped>\n",
       "    .dataframe tbody tr th:only-of-type {\n",
       "        vertical-align: middle;\n",
       "    }\n",
       "\n",
       "    .dataframe tbody tr th {\n",
       "        vertical-align: top;\n",
       "    }\n",
       "\n",
       "    .dataframe thead th {\n",
       "        text-align: right;\n",
       "    }\n",
       "</style>\n",
       "<table border=\"1\" class=\"dataframe\">\n",
       "  <thead>\n",
       "    <tr style=\"text-align: right;\">\n",
       "      <th></th>\n",
       "      <th>Country</th>\n",
       "      <th>Features</th>\n",
       "      <th>Region</th>\n",
       "      <th>1980</th>\n",
       "      <th>1981</th>\n",
       "      <th>1982</th>\n",
       "      <th>1983</th>\n",
       "      <th>1984</th>\n",
       "      <th>1985</th>\n",
       "      <th>1986</th>\n",
       "      <th>...</th>\n",
       "      <th>2012</th>\n",
       "      <th>2013</th>\n",
       "      <th>2014</th>\n",
       "      <th>2015</th>\n",
       "      <th>2016</th>\n",
       "      <th>2017</th>\n",
       "      <th>2018</th>\n",
       "      <th>2019</th>\n",
       "      <th>2020</th>\n",
       "      <th>2021</th>\n",
       "    </tr>\n",
       "  </thead>\n",
       "  <tbody>\n",
       "    <tr>\n",
       "      <th>0</th>\n",
       "      <td>Algeria</td>\n",
       "      <td>net generation</td>\n",
       "      <td>Africa</td>\n",
       "      <td>6.683</td>\n",
       "      <td>7.65</td>\n",
       "      <td>8.824</td>\n",
       "      <td>9.615</td>\n",
       "      <td>10.537</td>\n",
       "      <td>11.569</td>\n",
       "      <td>12.214</td>\n",
       "      <td>...</td>\n",
       "      <td>53.9845</td>\n",
       "      <td>56.3134</td>\n",
       "      <td>60.39972</td>\n",
       "      <td>64.68244</td>\n",
       "      <td>66.75504</td>\n",
       "      <td>71.49546</td>\n",
       "      <td>72.10903</td>\n",
       "      <td>76.685</td>\n",
       "      <td>72.73591277</td>\n",
       "      <td>77.53072719</td>\n",
       "    </tr>\n",
       "    <tr>\n",
       "      <th>1</th>\n",
       "      <td>Angola</td>\n",
       "      <td>net generation</td>\n",
       "      <td>Africa</td>\n",
       "      <td>0.905</td>\n",
       "      <td>0.906</td>\n",
       "      <td>0.995</td>\n",
       "      <td>1.028</td>\n",
       "      <td>1.028</td>\n",
       "      <td>1.028</td>\n",
       "      <td>1.088</td>\n",
       "      <td>...</td>\n",
       "      <td>6.03408</td>\n",
       "      <td>7.97606</td>\n",
       "      <td>9.21666</td>\n",
       "      <td>9.30914</td>\n",
       "      <td>10.203511</td>\n",
       "      <td>10.67604</td>\n",
       "      <td>12.83194</td>\n",
       "      <td>15.4</td>\n",
       "      <td>16.6</td>\n",
       "      <td>16.429392</td>\n",
       "    </tr>\n",
       "    <tr>\n",
       "      <th>2</th>\n",
       "      <td>Benin</td>\n",
       "      <td>net generation</td>\n",
       "      <td>Africa</td>\n",
       "      <td>0.005</td>\n",
       "      <td>0.005</td>\n",
       "      <td>0.005</td>\n",
       "      <td>0.005</td>\n",
       "      <td>0.005</td>\n",
       "      <td>0.005</td>\n",
       "      <td>0.005</td>\n",
       "      <td>...</td>\n",
       "      <td>0.04612</td>\n",
       "      <td>0.08848</td>\n",
       "      <td>0.22666</td>\n",
       "      <td>0.31056</td>\n",
       "      <td>0.26004</td>\n",
       "      <td>0.3115</td>\n",
       "      <td>0.19028</td>\n",
       "      <td>0.2017</td>\n",
       "      <td>0.22608</td>\n",
       "      <td>0.24109728</td>\n",
       "    </tr>\n",
       "    <tr>\n",
       "      <th>3</th>\n",
       "      <td>Botswana</td>\n",
       "      <td>net generation</td>\n",
       "      <td>Africa</td>\n",
       "      <td>0.443</td>\n",
       "      <td>0.502</td>\n",
       "      <td>0.489</td>\n",
       "      <td>0.434</td>\n",
       "      <td>0.445</td>\n",
       "      <td>0.456</td>\n",
       "      <td>0.538</td>\n",
       "      <td>...</td>\n",
       "      <td>0.33</td>\n",
       "      <td>0.86868</td>\n",
       "      <td>2.17628</td>\n",
       "      <td>2.79104</td>\n",
       "      <td>2.52984</td>\n",
       "      <td>2.8438</td>\n",
       "      <td>2.97076</td>\n",
       "      <td>3.0469</td>\n",
       "      <td>2.05144</td>\n",
       "      <td>2.18234816</td>\n",
       "    </tr>\n",
       "    <tr>\n",
       "      <th>4</th>\n",
       "      <td>Burkina Faso</td>\n",
       "      <td>net generation</td>\n",
       "      <td>Africa</td>\n",
       "      <td>0.098</td>\n",
       "      <td>0.108</td>\n",
       "      <td>0.115</td>\n",
       "      <td>0.117</td>\n",
       "      <td>0.113</td>\n",
       "      <td>0.115</td>\n",
       "      <td>0.122</td>\n",
       "      <td>...</td>\n",
       "      <td>0.86834</td>\n",
       "      <td>0.98268</td>\n",
       "      <td>1.11808</td>\n",
       "      <td>1.43986</td>\n",
       "      <td>1.5509</td>\n",
       "      <td>1.64602</td>\n",
       "      <td>1.6464</td>\n",
       "      <td>1.72552</td>\n",
       "      <td>1.647133174</td>\n",
       "      <td>1.761209666</td>\n",
       "    </tr>\n",
       "    <tr>\n",
       "      <th>...</th>\n",
       "      <td>...</td>\n",
       "      <td>...</td>\n",
       "      <td>...</td>\n",
       "      <td>...</td>\n",
       "      <td>...</td>\n",
       "      <td>...</td>\n",
       "      <td>...</td>\n",
       "      <td>...</td>\n",
       "      <td>...</td>\n",
       "      <td>...</td>\n",
       "      <td>...</td>\n",
       "      <td>...</td>\n",
       "      <td>...</td>\n",
       "      <td>...</td>\n",
       "      <td>...</td>\n",
       "      <td>...</td>\n",
       "      <td>...</td>\n",
       "      <td>...</td>\n",
       "      <td>...</td>\n",
       "      <td>...</td>\n",
       "      <td>...</td>\n",
       "    </tr>\n",
       "    <tr>\n",
       "      <th>1605</th>\n",
       "      <td>Trinidad and Tobago</td>\n",
       "      <td>distribution losses</td>\n",
       "      <td>Central &amp; South America</td>\n",
       "      <td>0.244</td>\n",
       "      <td>0.21</td>\n",
       "      <td>0.152</td>\n",
       "      <td>0.326</td>\n",
       "      <td>0.36</td>\n",
       "      <td>0.407</td>\n",
       "      <td>0.337</td>\n",
       "      <td>...</td>\n",
       "      <td>0.239</td>\n",
       "      <td>0.234</td>\n",
       "      <td>0.245</td>\n",
       "      <td>0.248</td>\n",
       "      <td>0.253</td>\n",
       "      <td>0.274864</td>\n",
       "      <td>0.425807</td>\n",
       "      <td>0.424101</td>\n",
       "      <td>0.422757</td>\n",
       "      <td>0.422757</td>\n",
       "    </tr>\n",
       "    <tr>\n",
       "      <th>1606</th>\n",
       "      <td>Turks and Caicos Islands</td>\n",
       "      <td>distribution losses</td>\n",
       "      <td>Central &amp; South America</td>\n",
       "      <td>0.00035</td>\n",
       "      <td>0.00035</td>\n",
       "      <td>0.00035</td>\n",
       "      <td>0.00035</td>\n",
       "      <td>0.00035</td>\n",
       "      <td>0.00035</td>\n",
       "      <td>0.00035</td>\n",
       "      <td>...</td>\n",
       "      <td>0</td>\n",
       "      <td>0</td>\n",
       "      <td>0</td>\n",
       "      <td>0</td>\n",
       "      <td>0</td>\n",
       "      <td>0.014</td>\n",
       "      <td>0.0125</td>\n",
       "      <td>0.0125</td>\n",
       "      <td>0.0125</td>\n",
       "      <td>0.01277172</td>\n",
       "    </tr>\n",
       "    <tr>\n",
       "      <th>1607</th>\n",
       "      <td>U.S. Virgin Islands</td>\n",
       "      <td>distribution losses</td>\n",
       "      <td>Central &amp; South America</td>\n",
       "      <td>0.05243</td>\n",
       "      <td>0.05537</td>\n",
       "      <td>0.05607</td>\n",
       "      <td>0.05761</td>\n",
       "      <td>0.05789</td>\n",
       "      <td>0.05922</td>\n",
       "      <td>0.06055</td>\n",
       "      <td>...</td>\n",
       "      <td>0.063</td>\n",
       "      <td>0.06</td>\n",
       "      <td>0.06</td>\n",
       "      <td>0.06</td>\n",
       "      <td>0.065</td>\n",
       "      <td>0.065</td>\n",
       "      <td>0.05</td>\n",
       "      <td>0.051</td>\n",
       "      <td>0.051</td>\n",
       "      <td>0.051</td>\n",
       "    </tr>\n",
       "    <tr>\n",
       "      <th>1608</th>\n",
       "      <td>Uruguay</td>\n",
       "      <td>distribution losses</td>\n",
       "      <td>Central &amp; South America</td>\n",
       "      <td>0.55</td>\n",
       "      <td>0.426</td>\n",
       "      <td>0.627</td>\n",
       "      <td>0.662</td>\n",
       "      <td>0.78</td>\n",
       "      <td>0.702</td>\n",
       "      <td>0.911</td>\n",
       "      <td>...</td>\n",
       "      <td>1.292</td>\n",
       "      <td>1.282</td>\n",
       "      <td>1.253</td>\n",
       "      <td>1.49</td>\n",
       "      <td>1.608</td>\n",
       "      <td>1.694491</td>\n",
       "      <td>1.557257</td>\n",
       "      <td>1.322331</td>\n",
       "      <td>1.129273</td>\n",
       "      <td>1.129273</td>\n",
       "    </tr>\n",
       "    <tr>\n",
       "      <th>1609</th>\n",
       "      <td>Venezuela</td>\n",
       "      <td>distribution losses</td>\n",
       "      <td>Central &amp; South America</td>\n",
       "      <td>5.145</td>\n",
       "      <td>3.597</td>\n",
       "      <td>6.113</td>\n",
       "      <td>6.623</td>\n",
       "      <td>5.386</td>\n",
       "      <td>6.818</td>\n",
       "      <td>8.605</td>\n",
       "      <td>...</td>\n",
       "      <td>25.113</td>\n",
       "      <td>25.627</td>\n",
       "      <td>42.699</td>\n",
       "      <td>40.381</td>\n",
       "      <td>33.543</td>\n",
       "      <td>32.237348</td>\n",
       "      <td>30.982821</td>\n",
       "      <td>25.637959</td>\n",
       "      <td>23.099784</td>\n",
       "      <td>23.04704156</td>\n",
       "    </tr>\n",
       "  </tbody>\n",
       "</table>\n",
       "<p>1610 rows × 45 columns</p>\n",
       "</div>"
      ],
      "text/plain": [
       "                               Country              Features  \\\n",
       "0                              Algeria        net generation   \n",
       "1                               Angola        net generation   \n",
       "2                                Benin        net generation   \n",
       "3                             Botswana        net generation   \n",
       "4                         Burkina Faso        net generation   \n",
       "...                                ...                   ...   \n",
       "1605               Trinidad and Tobago  distribution losses    \n",
       "1606          Turks and Caicos Islands  distribution losses    \n",
       "1607               U.S. Virgin Islands  distribution losses    \n",
       "1608                           Uruguay  distribution losses    \n",
       "1609                         Venezuela  distribution losses    \n",
       "\n",
       "                       Region     1980     1981     1982     1983     1984  \\\n",
       "0                      Africa    6.683     7.65    8.824    9.615   10.537   \n",
       "1                      Africa    0.905    0.906    0.995    1.028    1.028   \n",
       "2                      Africa    0.005    0.005    0.005    0.005    0.005   \n",
       "3                      Africa    0.443    0.502    0.489    0.434    0.445   \n",
       "4                      Africa    0.098    0.108    0.115    0.117    0.113   \n",
       "...                       ...      ...      ...      ...      ...      ...   \n",
       "1605  Central & South America    0.244     0.21    0.152    0.326     0.36   \n",
       "1606  Central & South America  0.00035  0.00035  0.00035  0.00035  0.00035   \n",
       "1607  Central & South America  0.05243  0.05537  0.05607  0.05761  0.05789   \n",
       "1608  Central & South America     0.55    0.426    0.627    0.662     0.78   \n",
       "1609  Central & South America    5.145    3.597    6.113    6.623    5.386   \n",
       "\n",
       "         1985     1986  ...     2012     2013      2014      2015       2016  \\\n",
       "0      11.569   12.214  ...  53.9845  56.3134  60.39972  64.68244   66.75504   \n",
       "1       1.028    1.088  ...  6.03408  7.97606   9.21666   9.30914  10.203511   \n",
       "2       0.005    0.005  ...  0.04612  0.08848   0.22666   0.31056    0.26004   \n",
       "3       0.456    0.538  ...     0.33  0.86868   2.17628   2.79104    2.52984   \n",
       "4       0.115    0.122  ...  0.86834  0.98268   1.11808   1.43986     1.5509   \n",
       "...       ...      ...  ...      ...      ...       ...       ...        ...   \n",
       "1605    0.407    0.337  ...    0.239    0.234     0.245     0.248      0.253   \n",
       "1606  0.00035  0.00035  ...        0        0         0         0          0   \n",
       "1607  0.05922  0.06055  ...    0.063     0.06      0.06      0.06      0.065   \n",
       "1608    0.702    0.911  ...    1.292    1.282     1.253      1.49      1.608   \n",
       "1609    6.818    8.605  ...   25.113   25.627    42.699    40.381     33.543   \n",
       "\n",
       "           2017       2018       2019         2020         2021  \n",
       "0      71.49546   72.10903     76.685  72.73591277  77.53072719  \n",
       "1      10.67604   12.83194       15.4         16.6    16.429392  \n",
       "2        0.3115    0.19028     0.2017      0.22608   0.24109728  \n",
       "3        2.8438    2.97076     3.0469      2.05144   2.18234816  \n",
       "4       1.64602     1.6464    1.72552  1.647133174  1.761209666  \n",
       "...         ...        ...        ...          ...          ...  \n",
       "1605   0.274864   0.425807   0.424101     0.422757     0.422757  \n",
       "1606      0.014     0.0125     0.0125       0.0125   0.01277172  \n",
       "1607      0.065       0.05      0.051        0.051        0.051  \n",
       "1608   1.694491   1.557257   1.322331     1.129273     1.129273  \n",
       "1609  32.237348  30.982821  25.637959    23.099784  23.04704156  \n",
       "\n",
       "[1610 rows x 45 columns]"
      ]
     },
     "execution_count": 6,
     "metadata": {},
     "output_type": "execute_result"
    }
   ],
   "source": [
    "data"
   ]
  },
  {
   "cell_type": "code",
   "execution_count": 7,
   "metadata": {},
   "outputs": [
    {
     "data": {
      "text/plain": [
       "Country     object\n",
       "Features    object\n",
       "Region      object\n",
       "1980        object\n",
       "1981        object\n",
       "1982        object\n",
       "1983        object\n",
       "1984        object\n",
       "1985        object\n",
       "1986        object\n",
       "1987        object\n",
       "1988        object\n",
       "1989        object\n",
       "1990        object\n",
       "1991        object\n",
       "1992        object\n",
       "1993        object\n",
       "1994        object\n",
       "1995        object\n",
       "1996        object\n",
       "1997        object\n",
       "1998        object\n",
       "1999        object\n",
       "2000        object\n",
       "2001        object\n",
       "2002        object\n",
       "2003        object\n",
       "2004        object\n",
       "2005        object\n",
       "2006        object\n",
       "2007        object\n",
       "2008        object\n",
       "2009        object\n",
       "2010        object\n",
       "2011        object\n",
       "2012        object\n",
       "2013        object\n",
       "2014        object\n",
       "2015        object\n",
       "2016        object\n",
       "2017        object\n",
       "2018        object\n",
       "2019        object\n",
       "2020        object\n",
       "2021        object\n",
       "dtype: object"
      ]
     },
     "execution_count": 7,
     "metadata": {},
     "output_type": "execute_result"
    }
   ],
   "source": [
    "data.dtypes"
   ]
  },
  {
   "cell_type": "markdown",
   "metadata": {},
   "source": [
    "### Preprocess data types:\n",
    "\n"
   ]
  },
  {
   "cell_type": "code",
   "execution_count": 8,
   "metadata": {},
   "outputs": [],
   "source": [
    "# Convert all \"--\" and \"ie\" into NaN\n",
    "\n",
    "data = data.replace(\"--\", np.nan)\n",
    "data = data.replace(\"ie\", np.nan)"
   ]
  },
  {
   "cell_type": "code",
   "execution_count": 9,
   "metadata": {},
   "outputs": [],
   "source": [
    "# Convert Country, Region and Features into categorical data\n",
    "\n",
    "data[\"Country\"] = data[\"Country\"].apply(lambda x: x.strip()).astype(\"category\")\n",
    "data[\"Region\"] = data[\"Region\"].apply(lambda x: x.strip()).astype(\"category\")\n",
    "data[\"Features\"] = data[\"Features\"].apply(lambda x: x.strip()).astype(\"category\")"
   ]
  },
  {
   "cell_type": "code",
   "execution_count": 10,
   "metadata": {},
   "outputs": [],
   "source": [
    "# Rename countries \n",
    "\n",
    "data[\"Country\"] = data[\"Country\"].replace(\"Former U.S.S.R.\", \"USSR\")"
   ]
  },
  {
   "cell_type": "code",
   "execution_count": 11,
   "metadata": {},
   "outputs": [
    {
     "name": "stderr",
     "output_type": "stream",
     "text": [
      "C:\\Users\\Petr\\AppData\\Local\\Temp\\ipykernel_14384\\691629853.py:3: DeprecationWarning: In a future version, `df.iloc[:, i] = newvals` will attempt to set the values inplace instead of always setting a new array. To retain the old behavior, use either `df[df.columns[i]] = newvals` or, if columns are non-unique, `df.isetitem(i, newvals)`\n",
      "  data.iloc[:, 3:] = data.iloc[:, 3:].astype(\"float\")\n"
     ]
    }
   ],
   "source": [
    "# Convert all other columns into float\n",
    "\n",
    "data.iloc[:, 3:] = data.iloc[:, 3:].astype(\"float\")"
   ]
  },
  {
   "cell_type": "code",
   "execution_count": 12,
   "metadata": {},
   "outputs": [
    {
     "data": {
      "text/plain": [
       "Country     category\n",
       "Features    category\n",
       "Region      category\n",
       "1980         float64\n",
       "1981         float64\n",
       "1982         float64\n",
       "1983         float64\n",
       "1984         float64\n",
       "1985         float64\n",
       "1986         float64\n",
       "1987         float64\n",
       "1988         float64\n",
       "1989         float64\n",
       "1990         float64\n",
       "1991         float64\n",
       "1992         float64\n",
       "1993         float64\n",
       "1994         float64\n",
       "1995         float64\n",
       "1996         float64\n",
       "1997         float64\n",
       "1998         float64\n",
       "1999         float64\n",
       "2000         float64\n",
       "2001         float64\n",
       "2002         float64\n",
       "2003         float64\n",
       "2004         float64\n",
       "2005         float64\n",
       "2006         float64\n",
       "2007         float64\n",
       "2008         float64\n",
       "2009         float64\n",
       "2010         float64\n",
       "2011         float64\n",
       "2012         float64\n",
       "2013         float64\n",
       "2014         float64\n",
       "2015         float64\n",
       "2016         float64\n",
       "2017         float64\n",
       "2018         float64\n",
       "2019         float64\n",
       "2020         float64\n",
       "2021         float64\n",
       "dtype: object"
      ]
     },
     "execution_count": 12,
     "metadata": {},
     "output_type": "execute_result"
    }
   ],
   "source": [
    "data.dtypes"
   ]
  },
  {
   "cell_type": "markdown",
   "metadata": {},
   "source": [
    "### Splitting:"
   ]
  },
  {
   "cell_type": "code",
   "execution_count": 13,
   "metadata": {},
   "outputs": [
    {
     "data": {
      "text/plain": [
       "['net generation', 'net consumption', 'imports', 'exports', 'net imports', 'installed capacity', 'distribution losses']\n",
       "Categories (7, object): ['distribution losses', 'exports', 'imports', 'installed capacity', 'net consumption', 'net generation', 'net imports']"
      ]
     },
     "execution_count": 13,
     "metadata": {},
     "output_type": "execute_result"
    }
   ],
   "source": [
    "data[\"Features\"].unique()"
   ]
  },
  {
   "cell_type": "code",
   "execution_count": 14,
   "metadata": {},
   "outputs": [],
   "source": [
    "data.sort_values(by=['Country'], inplace=True)"
   ]
  },
  {
   "cell_type": "code",
   "execution_count": 15,
   "metadata": {},
   "outputs": [],
   "source": [
    "data_net_generation = data[data[\"Features\"] == \"net generation\"].copy()\n",
    "data_net_comsumption = data[data[\"Features\"] == \"net consumption\"].copy()\n",
    "data_imports = data[data[\"Features\"] == \"imports\"].copy()\n",
    "data_exports = data[data[\"Features\"] == \"exports\"].copy()\n",
    "data_net_imports = data[data[\"Features\"] == \"net imports\"].copy()\n",
    "data_installed_capacity = data[data[\"Features\"] == \"installed capacity\"].copy()\n",
    "data_distribution_losses = data[data[\"Features\"] == \"distribution losses\"].copy()"
   ]
  },
  {
   "cell_type": "code",
   "execution_count": 16,
   "metadata": {},
   "outputs": [],
   "source": [
    "data_net_generation.drop(columns=[\"Features\"], inplace=True)\n",
    "data_net_comsumption.drop(columns=[\"Features\"], inplace=True)\n",
    "data_imports.drop(columns=[\"Features\"], inplace=True)\n",
    "data_exports.drop(columns=[\"Features\"], inplace=True)\n",
    "data_net_imports.drop(columns=[\"Features\"], inplace=True)\n",
    "data_installed_capacity.drop(columns=[\"Features\"], inplace=True)\n",
    "data_distribution_losses.drop(columns=[\"Features\"], inplace=True)\n",
    "\n",
    "data_net_generation.reset_index(drop=True, inplace=True)\n",
    "data_net_comsumption.reset_index(drop=True, inplace=True)\n",
    "data_imports.reset_index(drop=True, inplace=True)\n",
    "data_exports.reset_index(drop=True, inplace=True)\n",
    "data_net_imports.reset_index(drop=True, inplace=True)\n",
    "data_installed_capacity.reset_index(drop=True, inplace=True)\n",
    "data_distribution_losses.reset_index(drop=True, inplace=True)"
   ]
  },
  {
   "cell_type": "code",
   "execution_count": 17,
   "metadata": {},
   "outputs": [
    {
     "data": {
      "text/html": [
       "<div>\n",
       "<style scoped>\n",
       "    .dataframe tbody tr th:only-of-type {\n",
       "        vertical-align: middle;\n",
       "    }\n",
       "\n",
       "    .dataframe tbody tr th {\n",
       "        vertical-align: top;\n",
       "    }\n",
       "\n",
       "    .dataframe thead th {\n",
       "        text-align: right;\n",
       "    }\n",
       "</style>\n",
       "<table border=\"1\" class=\"dataframe\">\n",
       "  <thead>\n",
       "    <tr style=\"text-align: right;\">\n",
       "      <th></th>\n",
       "      <th>Country</th>\n",
       "      <th>Region</th>\n",
       "      <th>1980</th>\n",
       "      <th>1981</th>\n",
       "      <th>1982</th>\n",
       "      <th>1983</th>\n",
       "      <th>1984</th>\n",
       "      <th>1985</th>\n",
       "      <th>1986</th>\n",
       "      <th>1987</th>\n",
       "      <th>...</th>\n",
       "      <th>2012</th>\n",
       "      <th>2013</th>\n",
       "      <th>2014</th>\n",
       "      <th>2015</th>\n",
       "      <th>2016</th>\n",
       "      <th>2017</th>\n",
       "      <th>2018</th>\n",
       "      <th>2019</th>\n",
       "      <th>2020</th>\n",
       "      <th>2021</th>\n",
       "    </tr>\n",
       "  </thead>\n",
       "  <tbody>\n",
       "    <tr>\n",
       "      <th>16</th>\n",
       "      <td>Belarus</td>\n",
       "      <td>Eurasia</td>\n",
       "      <td>NaN</td>\n",
       "      <td>NaN</td>\n",
       "      <td>NaN</td>\n",
       "      <td>NaN</td>\n",
       "      <td>NaN</td>\n",
       "      <td>NaN</td>\n",
       "      <td>NaN</td>\n",
       "      <td>NaN</td>\n",
       "      <td>...</td>\n",
       "      <td>28.92924</td>\n",
       "      <td>29.60146</td>\n",
       "      <td>32.63418</td>\n",
       "      <td>32.0097</td>\n",
       "      <td>31.5473</td>\n",
       "      <td>32.45526</td>\n",
       "      <td>36.65996</td>\n",
       "      <td>37.6835</td>\n",
       "      <td>36.2109</td>\n",
       "      <td>43.867484</td>\n",
       "    </tr>\n",
       "  </tbody>\n",
       "</table>\n",
       "<p>1 rows × 44 columns</p>\n",
       "</div>"
      ],
      "text/plain": [
       "    Country   Region  1980  1981  1982  1983  1984  1985  1986  1987  ...  \\\n",
       "16  Belarus  Eurasia   NaN   NaN   NaN   NaN   NaN   NaN   NaN   NaN  ...   \n",
       "\n",
       "        2012      2013      2014     2015     2016      2017      2018  \\\n",
       "16  28.92924  29.60146  32.63418  32.0097  31.5473  32.45526  36.65996   \n",
       "\n",
       "       2019     2020       2021  \n",
       "16  37.6835  36.2109  43.867484  \n",
       "\n",
       "[1 rows x 44 columns]"
      ]
     },
     "execution_count": 17,
     "metadata": {},
     "output_type": "execute_result"
    }
   ],
   "source": [
    "data_net_generation[data_net_generation[\"Country\"].str.contains(\"Belarus\")]"
   ]
  },
  {
   "cell_type": "code",
   "execution_count": 32,
   "metadata": {},
   "outputs": [],
   "source": [
    "ussr_index = list(data_net_generation['Country']).index(\"USSR\")"
   ]
  },
  {
   "cell_type": "code",
   "execution_count": 34,
   "metadata": {},
   "outputs": [
    {
     "name": "stderr",
     "output_type": "stream",
     "text": [
      "Former Serbia and Montenegro not found in regex\n",
      "USSR not found in regex\n",
      "Former Yugoslavia not found in regex\n",
      "Germany, East not found in regex\n",
      "Germany, West not found in regex\n",
      "Hawaiian Trade Zone not found in regex\n",
      "Netherlands Antilles not found in regex\n",
      "U.S. Pacific Islands not found in regex\n",
      "U.S. Territories not found in regex\n",
      "Wake Island not found in regex\n"
     ]
    }
   ],
   "source": [
    "countries = coco.convert(names = data_net_generation['Country'], to='name_short')\n",
    "countries[ussr_index] = \"Soviet Union (former)\""
   ]
  },
  {
   "cell_type": "code",
   "execution_count": 33,
   "metadata": {},
   "outputs": [
    {
     "data": {
      "text/plain": [
       "'not found'"
      ]
     },
     "execution_count": 33,
     "metadata": {},
     "output_type": "execute_result"
    }
   ],
   "source": []
  },
  {
   "cell_type": "markdown",
   "metadata": {},
   "source": [
    "# TODO : Add data for "
   ]
  },
  {
   "cell_type": "markdown",
   "metadata": {},
   "source": [
    "### Basic plots:"
   ]
  },
  {
   "cell_type": "code",
   "execution_count": 23,
   "metadata": {},
   "outputs": [
    {
     "name": "stderr",
     "output_type": "stream",
     "text": [
      "Former Serbia and Montenegro not found in regex\n",
      "USSR not found in regex\n",
      "Former Yugoslavia not found in regex\n",
      "Germany, East not found in regex\n",
      "Germany, West not found in regex\n"
     ]
    },
    {
     "name": "stderr",
     "output_type": "stream",
     "text": [
      "Hawaiian Trade Zone not found in regex\n",
      "Netherlands Antilles not found in regex\n",
      "U.S. Pacific Islands not found in regex\n",
      "U.S. Territories not found in regex\n",
      "Wake Island not found in regex\n"
     ]
    },
    {
     "data": {
      "application/vnd.plotly.v1+json": {
       "config": {
        "plotlyServerURL": "https://plot.ly"
       },
       "data": [
        {
         "coloraxis": "coloraxis",
         "customdata": [
          [
           5.368356939
          ],
          [
           -0.548
          ],
          [
           -0.096598641
          ],
          [
           0
          ],
          [
           0
          ],
          [
           0
          ],
          [
           0
          ],
          [
           2.498
          ],
          [
           -0.627
          ],
          [
           0
          ],
          [
           0
          ],
          [
           7.5431563
          ],
          [
           -1.521
          ],
          [
           0.205
          ],
          [
           6.555002879
          ],
          [
           0
          ],
          [
           -0.295931835
          ],
          [
           -7.8763558
          ],
          [
           0.35
          ],
          [
           0.644
          ],
          [
           0
          ],
          [
           -5.206106667
          ],
          [
           0
          ],
          [
           -4.755
          ],
          [
           1.83769
          ],
          [
           23.103
          ],
          [
           0
          ],
          [
           0
          ],
          [
           -8.778
          ],
          [
           1.061478571
          ],
          [
           -1.341
          ],
          [
           0.1
          ],
          [
           0
          ],
          [
           3.605209587
          ],
          [
           0.01987146
          ],
          [
           -38.073045
          ],
          [
           0
          ],
          [
           0
          ],
          [
           0
          ],
          [
           0
          ],
          [
           -17.70071929
          ],
          [
           0.4574924
          ],
          [
           0
          ],
          [
           0.002
          ],
          [
           0.190506406
          ],
          [
           0
          ],
          [
           -1.003
          ],
          [
           -1.267912172
          ],
          [
           3.116312616
          ],
          [
           0
          ],
          [
           0
          ],
          [
           -11.0752663
          ],
          [
           6.4654174
          ],
          [
           0.53
          ],
          [
           0
          ],
          [
           0
          ],
          [
           -1.09
          ],
          [
           -0.815981591
          ],
          [
           0.656874446
          ],
          [
           0
          ],
          [
           0
          ],
          [
           2.6287367
          ],
          [
           0.919833279
          ],
          [
           -1.753928571
          ],
          [
           0
          ],
          [
           0
          ],
          [
           0
          ],
          [
           17.2864613
          ],
          [
           null
          ],
          [
           null
          ],
          [
           null
          ],
          [
           null
          ],
          [
           -44.8369104
          ],
          [
           null
          ],
          [
           0
          ],
          [
           0.5475
          ],
          [
           0
          ],
          [
           1.615
          ],
          [
           -18.9016764
          ],
          [
           null
          ],
          [
           null
          ],
          [
           -1.409683107
          ],
          [
           0
          ],
          [
           3.6855482
          ],
          [
           0
          ],
          [
           0
          ],
          [
           null
          ],
          [
           0
          ],
          [
           -0.071
          ],
          [
           0
          ],
          [
           0
          ],
          [
           0
          ],
          [
           0
          ],
          [
           null
          ],
          [
           -0.166
          ],
          [
           12.555
          ],
          [
           12.7538022
          ],
          [
           0
          ],
          [
           -1.880918965
          ],
          [
           0.97273
          ],
          [
           -3.627
          ],
          [
           18.609
          ],
          [
           1.4464858
          ],
          [
           -6.523
          ],
          [
           42.7941714
          ],
          [
           0
          ],
          [
           0
          ],
          [
           0.133790188
          ],
          [
           -0.846779093
          ],
          [
           0.140434255
          ],
          [
           0
          ],
          [
           0.158006154
          ],
          [
           0
          ],
          [
           0.051402348
          ],
          [
           -31.15037415
          ],
          [
           1.7724427
          ],
          [
           0.09
          ],
          [
           0.5310181
          ],
          [
           0
          ],
          [
           1.347464251
          ],
          [
           9.0437604
          ],
          [
           5.7213268
          ],
          [
           5.1923
          ],
          [
           0
          ],
          [
           0
          ],
          [
           -1.648522061
          ],
          [
           0
          ],
          [
           -0.35
          ],
          [
           0.511
          ],
          [
           null
          ],
          [
           0.2
          ],
          [
           0
          ],
          [
           2.419
          ],
          [
           null
          ],
          [
           3.431
          ],
          [
           1.630156294
          ],
          [
           0.079
          ],
          [
           0
          ],
          [
           0.974306484
          ],
          [
           -3.67231591
          ],
          [
           2.192
          ],
          [
           0
          ],
          [
           2.77074155
          ],
          [
           0.252953
          ],
          [
           0
          ],
          [
           0
          ],
          [
           0
          ],
          [
           1.355061335
          ],
          [
           1.158571429
          ],
          [
           0
          ],
          [
           0
          ],
          [
           0
          ],
          [
           2.478
          ],
          [
           null
          ],
          [
           -17.5838122
          ],
          [
           0
          ],
          [
           0.513412812
          ],
          [
           6.207428571
          ],
          [
           -0.506769133
          ],
          [
           0
          ],
          [
           -28.005
          ],
          [
           0.037
          ],
          [
           0
          ],
          [
           0.887772
          ],
          [
           4.7533542
          ],
          [
           0
          ],
          [
           0
          ],
          [
           null
          ],
          [
           2.198
          ],
          [
           -17.675
          ],
          [
           0.029826764
          ],
          [
           0
          ],
          [
           0
          ],
          [
           0
          ],
          [
           0
          ],
          [
           0
          ],
          [
           0
          ],
          [
           0
          ],
          [
           -0.301707833
          ],
          [
           0.356
          ],
          [
           0.651
          ],
          [
           0
          ],
          [
           0
          ],
          [
           0
          ],
          [
           0.7881502
          ],
          [
           -0.2704215
          ],
          [
           0
          ],
          [
           0
          ],
          [
           -4.136352214
          ],
          [
           0
          ],
          [
           0
          ],
          [
           0.8820084
          ],
          [
           0
          ],
          [
           0
          ],
          [
           0.8
          ],
          [
           -25.568867
          ],
          [
           2.6577902
          ],
          [
           -0.317
          ],
          [
           0
          ],
          [
           -1.432239975
          ],
          [
           0.115347777
          ],
          [
           28.67575368
          ],
          [
           0
          ],
          [
           0
          ],
          [
           0.815
          ],
          [
           0
          ],
          [
           0
          ],
          [
           -0.579462853
          ],
          [
           -1.855978
          ],
          [
           -3.201009497
          ],
          [
           0
          ],
          [
           null
          ],
          [
           0
          ],
          [
           null
          ],
          [
           0
          ],
          [
           -0.201
          ],
          [
           -0.944764583
          ],
          [
           -0.029
          ],
          [
           24.5773724
          ],
          [
           39.325422
          ],
          [
           -1.080473638
          ],
          [
           2.52
          ],
          [
           0
          ],
          [
           -0.652
          ],
          [
           1.522273574
          ],
          [
           0
          ],
          [
           0
          ],
          [
           0
          ],
          [
           -1.198395983
          ],
          [
           1.754193188
          ]
         ],
         "geo": "geo",
         "hovertemplate": "<b>%{hovertext}</b><br><br>Country_Short=%{location}<br>net imports=%{z}<extra></extra>",
         "hovertext": [
          "Afghanistan",
          "Albania",
          "Algeria",
          "American Samoa",
          "Angola",
          "Antarctica",
          "Antigua and Barbuda",
          "Argentina",
          "Armenia",
          "Aruba",
          "Australia",
          "Austria",
          "Azerbaijan",
          "Bahrain",
          "Bangladesh",
          "Barbados",
          "Belarus",
          "Belgium",
          "Belize",
          "Benin",
          "Bermuda",
          "Bhutan",
          "Bolivia",
          "Bosnia and Herzegovina",
          "Botswana",
          "Brazil",
          "British Virgin Islands",
          "Brunei",
          "Bulgaria",
          "Burkina Faso",
          "Burma",
          "Burundi",
          "Cabo Verde",
          "Cambodia",
          "Cameroon",
          "Canada",
          "Cayman Islands",
          "Central African Republic",
          "Chad",
          "Chile",
          "China",
          "Colombia",
          "Comoros",
          "Congo-Brazzaville",
          "Congo-Kinshasa",
          "Cook Islands",
          "Costa Rica",
          "Cote d'Ivoire",
          "Croatia",
          "Cuba",
          "Cyprus",
          "Czechia",
          "Denmark",
          "Djibouti",
          "Dominica",
          "Dominican Republic",
          "Ecuador",
          "Egypt",
          "El Salvador",
          "Equatorial Guinea",
          "Eritrea",
          "Estonia",
          "Eswatini",
          "Ethiopia",
          "Falkland Islands",
          "Faroe Islands",
          "Fiji",
          "Finland",
          "Former Czechoslovakia",
          "Former Serbia and Montenegro",
          "USSR",
          "Former Yugoslavia",
          "France",
          "French Guiana",
          "French Polynesia",
          "Gabon",
          "Gambia, The",
          "Georgia",
          "Germany",
          "Germany, East",
          "Germany, West",
          "Ghana",
          "Gibraltar",
          "Greece",
          "Greenland",
          "Grenada",
          "Guadeloupe",
          "Guam",
          "Guatemala",
          "Guinea",
          "Guinea-Bissau",
          "Guyana",
          "Haiti",
          "Hawaiian Trade Zone",
          "Honduras",
          "Hong Kong",
          "Hungary",
          "Iceland",
          "India",
          "Indonesia",
          "Iran",
          "Iraq",
          "Ireland",
          "Israel",
          "Italy",
          "Jamaica",
          "Japan",
          "Jordan",
          "Kazakhstan",
          "Kenya",
          "Kiribati",
          "Kosovo",
          "Kuwait",
          "Kyrgyzstan",
          "Laos",
          "Latvia",
          "Lebanon",
          "Lesotho",
          "Liberia",
          "Libya",
          "Lithuania",
          "Luxembourg",
          "Macau",
          "Madagascar",
          "Malawi",
          "Malaysia",
          "Maldives",
          "Mali",
          "Malta",
          "Martinique",
          "Mauritania",
          "Mauritius",
          "Mexico",
          "Micronesia",
          "Moldova",
          "Mongolia",
          "Montenegro",
          "Montserrat",
          "Morocco",
          "Mozambique",
          "Namibia",
          "Nauru",
          "Nepal",
          "Netherlands",
          "Netherlands Antilles",
          "New Caledonia",
          "New Zealand",
          "Nicaragua",
          "Niger",
          "Nigeria",
          "Niue",
          "North Korea",
          "North Macedonia",
          "Northern Mariana Islands",
          "Norway",
          "Oman",
          "Pakistan",
          "Palestinian Territories",
          "Panama",
          "Papua New Guinea",
          "Paraguay",
          "Peru",
          "Philippines",
          "Poland",
          "Portugal",
          "Puerto Rico",
          "Qatar",
          "Reunion",
          "Romania",
          "Russia",
          "Rwanda",
          "Saint Helena",
          "Saint Kitts and Nevis",
          "Saint Lucia",
          "Saint Pierre and Miquelon",
          "Saint Vincent/Grenadines",
          "Samoa",
          "Sao Tome and Principe",
          "Saudi Arabia",
          "Senegal",
          "Serbia",
          "Seychelles",
          "Sierra Leone",
          "Singapore",
          "Slovakia",
          "Slovenia",
          "Solomon Islands",
          "Somalia",
          "South Africa",
          "South Korea",
          "South Sudan",
          "Spain",
          "Sri Lanka",
          "Sudan",
          "Suriname",
          "Sweden",
          "Switzerland",
          "Syria",
          "Taiwan",
          "Tajikistan",
          "Tanzania",
          "Thailand",
          "The Bahamas",
          "Timor-Leste",
          "Togo",
          "Tonga",
          "Trinidad and Tobago",
          "Tunisia",
          "Turkiye",
          "Turkmenistan",
          "Turks and Caicos Islands",
          "Tuvalu",
          "U.S. Pacific Islands",
          "U.S. Territories",
          "U.S. Virgin Islands",
          "Uganda",
          "Ukraine",
          "United Arab Emirates",
          "United Kingdom",
          "United States",
          "Uruguay",
          "Uzbekistan",
          "Vanuatu",
          "Venezuela",
          "Vietnam",
          "Wake Island",
          "Western Sahara",
          "Yemen",
          "Zambia",
          "Zimbabwe"
         ],
         "locations": [
          "AFG",
          "ALB",
          "DZA",
          "ASM",
          "AGO",
          "ATA",
          "ATG",
          "ARG",
          "ARM",
          "ABW",
          "AUS",
          "AUT",
          "AZE",
          "BHR",
          "BGD",
          "BRB",
          "BLR",
          "BEL",
          "BLZ",
          "BEN",
          "BMU",
          "BTN",
          "BOL",
          "BIH",
          "BWA",
          "BRA",
          "VGB",
          "BRN",
          "BGR",
          "BFA",
          "MMR",
          "BDI",
          "CPV",
          "KHM",
          "CMR",
          "CAN",
          "CYM",
          "CAF",
          "TCD",
          "CHL",
          "CHN",
          "COL",
          "COM",
          "COG",
          "COD",
          "COK",
          "CRI",
          "CIV",
          "HRV",
          "CUB",
          "CYP",
          "CZE",
          "DNK",
          "DJI",
          "DMA",
          "DOM",
          "ECU",
          "EGY",
          "SLV",
          "GNQ",
          "ERI",
          "EST",
          "SWZ",
          "ETH",
          "FLK",
          "FRO",
          "FJI",
          "FIN",
          "CZE",
          "not found",
          "not found",
          "not found",
          "FRA",
          "GUF",
          "PYF",
          "GAB",
          "GMB",
          "GEO",
          "DEU",
          "not found",
          "not found",
          "GHA",
          "GIB",
          "GRC",
          "GRL",
          "GRD",
          "GLP",
          "GUM",
          "GTM",
          "GIN",
          "GNB",
          "GUY",
          "HTI",
          "not found",
          "HND",
          "HKG",
          "HUN",
          "ISL",
          "IND",
          "IDN",
          "IRN",
          "IRQ",
          "IRL",
          "ISR",
          "ITA",
          "JAM",
          "JPN",
          "JOR",
          "KAZ",
          "KEN",
          "KIR",
          "XKX",
          "KWT",
          "KGZ",
          "LAO",
          "LVA",
          "LBN",
          "LSO",
          "LBR",
          "LBY",
          "LTU",
          "LUX",
          "MAC",
          "MDG",
          "MWI",
          "MYS",
          "MDV",
          "MLI",
          "MLT",
          "MTQ",
          "MRT",
          "MUS",
          "MEX",
          "FSM",
          "MDA",
          "MNG",
          "MNE",
          "MSR",
          "MAR",
          "MOZ",
          "NAM",
          "NRU",
          "NPL",
          "NLD",
          "not found",
          "NCL",
          "NZL",
          "NIC",
          "NER",
          "NGA",
          "NIU",
          "PRK",
          "MKD",
          "MNP",
          "NOR",
          "OMN",
          "PAK",
          "PSE",
          "PAN",
          "PNG",
          "PRY",
          "PER",
          "PHL",
          "POL",
          "PRT",
          "PRI",
          "QAT",
          "REU",
          "ROU",
          "RUS",
          "RWA",
          "SHN",
          "KNA",
          "LCA",
          "SPM",
          "VCT",
          "WSM",
          "STP",
          "SAU",
          "SEN",
          "SRB",
          "SYC",
          "SLE",
          "SGP",
          "SVK",
          "SVN",
          "SLB",
          "SOM",
          "ZAF",
          "KOR",
          "SSD",
          "ESP",
          "LKA",
          "SDN",
          "SUR",
          "SWE",
          "CHE",
          "SYR",
          "TWN",
          "TJK",
          "TZA",
          "THA",
          "BHS",
          "TLS",
          "TGO",
          "TON",
          "TTO",
          "TUN",
          "TUR",
          "TKM",
          "TCA",
          "TUV",
          "not found",
          "not found",
          "VIR",
          "UGA",
          "UKR",
          "ARE",
          "GBR",
          "USA",
          "URY",
          "UZB",
          "VUT",
          "VEN",
          "VNM",
          "not found",
          "ESH",
          "YEM",
          "ZMB",
          "ZWE"
         ],
         "name": "",
         "type": "choropleth",
         "z": [
          5.368356939,
          -0.548,
          -0.096598641,
          0,
          0,
          0,
          0,
          2.498,
          -0.627,
          0,
          0,
          7.5431563,
          -1.521,
          0.205,
          6.555002879,
          0,
          -0.295931835,
          -7.8763558,
          0.35,
          0.644,
          0,
          -5.206106667,
          0,
          -4.755,
          1.83769,
          23.103,
          0,
          0,
          -8.778,
          1.061478571,
          -1.341,
          0.1,
          0,
          3.605209587,
          0.01987146,
          -38.073045,
          0,
          0,
          0,
          0,
          -17.70071929,
          0.4574924,
          0,
          0.002,
          0.190506406,
          0,
          -1.003,
          -1.267912172,
          3.116312616,
          0,
          0,
          -11.0752663,
          6.4654174,
          0.53,
          0,
          0,
          -1.09,
          -0.815981591,
          0.656874446,
          0,
          0,
          2.6287367,
          0.919833279,
          -1.753928571,
          0,
          0,
          0,
          17.2864613,
          null,
          null,
          null,
          null,
          -44.8369104,
          null,
          0,
          0.5475,
          0,
          1.615,
          -18.9016764,
          null,
          null,
          -1.409683107,
          0,
          3.6855482,
          0,
          0,
          null,
          0,
          -0.071,
          0,
          0,
          0,
          0,
          null,
          -0.166,
          12.555,
          12.7538022,
          0,
          -1.880918965,
          0.97273,
          -3.627,
          18.609,
          1.4464858,
          -6.523,
          42.7941714,
          0,
          0,
          0.133790188,
          -0.846779093,
          0.140434255,
          0,
          0.158006154,
          0,
          0.051402348,
          -31.15037415,
          1.7724427,
          0.09,
          0.5310181,
          0,
          1.347464251,
          9.0437604,
          5.7213268,
          5.1923,
          0,
          0,
          -1.648522061,
          0,
          -0.35,
          0.511,
          null,
          0.2,
          0,
          2.419,
          null,
          3.431,
          1.630156294,
          0.079,
          0,
          0.974306484,
          -3.67231591,
          2.192,
          0,
          2.77074155,
          0.252953,
          0,
          0,
          0,
          1.355061335,
          1.158571429,
          0,
          0,
          0,
          2.478,
          null,
          -17.5838122,
          0,
          0.513412812,
          6.207428571,
          -0.506769133,
          0,
          -28.005,
          0.037,
          0,
          0.887772,
          4.7533542,
          0,
          0,
          null,
          2.198,
          -17.675,
          0.029826764,
          0,
          0,
          0,
          0,
          0,
          0,
          0,
          -0.301707833,
          0.356,
          0.651,
          0,
          0,
          0,
          0.7881502,
          -0.2704215,
          0,
          0,
          -4.136352214,
          0,
          0,
          0.8820084,
          0,
          0,
          0.8,
          -25.568867,
          2.6577902,
          -0.317,
          0,
          -1.432239975,
          0.115347777,
          28.67575368,
          0,
          0,
          0.815,
          0,
          0,
          -0.579462853,
          -1.855978,
          -3.201009497,
          0,
          null,
          0,
          null,
          0,
          -0.201,
          -0.944764583,
          -0.029,
          24.5773724,
          39.325422,
          -1.080473638,
          2.52,
          0,
          -0.652,
          1.522273574,
          0,
          0,
          0,
          -1.198395983,
          1.754193188
         ]
        }
       ],
       "layout": {
        "coloraxis": {
         "cmax": 42.7941714,
         "cmin": 0,
         "colorbar": {
          "title": {
           "text": "net imports"
          }
         },
         "colorscale": [
          [
           0,
           "#0d0887"
          ],
          [
           0.01,
           "#46039f"
          ],
          [
           0.03,
           "#7201a8"
          ],
          [
           0.5,
           "#9c179e"
          ],
          [
           0.7,
           "#bd3786"
          ],
          [
           0.9,
           "#d8576b"
          ],
          [
           1,
           "#ed7953"
          ]
         ]
        },
        "geo": {
         "center": {},
         "domain": {
          "x": [
           0,
           1
          ],
          "y": [
           0,
           1
          ]
         }
        },
        "height": 500,
        "legend": {
         "tracegroupgap": 0
        },
        "template": {
         "data": {
          "bar": [
           {
            "error_x": {
             "color": "#f2f5fa"
            },
            "error_y": {
             "color": "#f2f5fa"
            },
            "marker": {
             "line": {
              "color": "rgb(17,17,17)",
              "width": 0.5
             },
             "pattern": {
              "fillmode": "overlay",
              "size": 10,
              "solidity": 0.2
             }
            },
            "type": "bar"
           }
          ],
          "barpolar": [
           {
            "marker": {
             "line": {
              "color": "rgb(17,17,17)",
              "width": 0.5
             },
             "pattern": {
              "fillmode": "overlay",
              "size": 10,
              "solidity": 0.2
             }
            },
            "type": "barpolar"
           }
          ],
          "carpet": [
           {
            "aaxis": {
             "endlinecolor": "#A2B1C6",
             "gridcolor": "#506784",
             "linecolor": "#506784",
             "minorgridcolor": "#506784",
             "startlinecolor": "#A2B1C6"
            },
            "baxis": {
             "endlinecolor": "#A2B1C6",
             "gridcolor": "#506784",
             "linecolor": "#506784",
             "minorgridcolor": "#506784",
             "startlinecolor": "#A2B1C6"
            },
            "type": "carpet"
           }
          ],
          "choropleth": [
           {
            "colorbar": {
             "outlinewidth": 0,
             "ticks": ""
            },
            "type": "choropleth"
           }
          ],
          "contour": [
           {
            "colorbar": {
             "outlinewidth": 0,
             "ticks": ""
            },
            "colorscale": [
             [
              0,
              "#0d0887"
             ],
             [
              0.1111111111111111,
              "#46039f"
             ],
             [
              0.2222222222222222,
              "#7201a8"
             ],
             [
              0.3333333333333333,
              "#9c179e"
             ],
             [
              0.4444444444444444,
              "#bd3786"
             ],
             [
              0.5555555555555556,
              "#d8576b"
             ],
             [
              0.6666666666666666,
              "#ed7953"
             ],
             [
              0.7777777777777778,
              "#fb9f3a"
             ],
             [
              0.8888888888888888,
              "#fdca26"
             ],
             [
              1,
              "#f0f921"
             ]
            ],
            "type": "contour"
           }
          ],
          "contourcarpet": [
           {
            "colorbar": {
             "outlinewidth": 0,
             "ticks": ""
            },
            "type": "contourcarpet"
           }
          ],
          "heatmap": [
           {
            "colorbar": {
             "outlinewidth": 0,
             "ticks": ""
            },
            "colorscale": [
             [
              0,
              "#0d0887"
             ],
             [
              0.1111111111111111,
              "#46039f"
             ],
             [
              0.2222222222222222,
              "#7201a8"
             ],
             [
              0.3333333333333333,
              "#9c179e"
             ],
             [
              0.4444444444444444,
              "#bd3786"
             ],
             [
              0.5555555555555556,
              "#d8576b"
             ],
             [
              0.6666666666666666,
              "#ed7953"
             ],
             [
              0.7777777777777778,
              "#fb9f3a"
             ],
             [
              0.8888888888888888,
              "#fdca26"
             ],
             [
              1,
              "#f0f921"
             ]
            ],
            "type": "heatmap"
           }
          ],
          "heatmapgl": [
           {
            "colorbar": {
             "outlinewidth": 0,
             "ticks": ""
            },
            "colorscale": [
             [
              0,
              "#0d0887"
             ],
             [
              0.1111111111111111,
              "#46039f"
             ],
             [
              0.2222222222222222,
              "#7201a8"
             ],
             [
              0.3333333333333333,
              "#9c179e"
             ],
             [
              0.4444444444444444,
              "#bd3786"
             ],
             [
              0.5555555555555556,
              "#d8576b"
             ],
             [
              0.6666666666666666,
              "#ed7953"
             ],
             [
              0.7777777777777778,
              "#fb9f3a"
             ],
             [
              0.8888888888888888,
              "#fdca26"
             ],
             [
              1,
              "#f0f921"
             ]
            ],
            "type": "heatmapgl"
           }
          ],
          "histogram": [
           {
            "marker": {
             "pattern": {
              "fillmode": "overlay",
              "size": 10,
              "solidity": 0.2
             }
            },
            "type": "histogram"
           }
          ],
          "histogram2d": [
           {
            "colorbar": {
             "outlinewidth": 0,
             "ticks": ""
            },
            "colorscale": [
             [
              0,
              "#0d0887"
             ],
             [
              0.1111111111111111,
              "#46039f"
             ],
             [
              0.2222222222222222,
              "#7201a8"
             ],
             [
              0.3333333333333333,
              "#9c179e"
             ],
             [
              0.4444444444444444,
              "#bd3786"
             ],
             [
              0.5555555555555556,
              "#d8576b"
             ],
             [
              0.6666666666666666,
              "#ed7953"
             ],
             [
              0.7777777777777778,
              "#fb9f3a"
             ],
             [
              0.8888888888888888,
              "#fdca26"
             ],
             [
              1,
              "#f0f921"
             ]
            ],
            "type": "histogram2d"
           }
          ],
          "histogram2dcontour": [
           {
            "colorbar": {
             "outlinewidth": 0,
             "ticks": ""
            },
            "colorscale": [
             [
              0,
              "#0d0887"
             ],
             [
              0.1111111111111111,
              "#46039f"
             ],
             [
              0.2222222222222222,
              "#7201a8"
             ],
             [
              0.3333333333333333,
              "#9c179e"
             ],
             [
              0.4444444444444444,
              "#bd3786"
             ],
             [
              0.5555555555555556,
              "#d8576b"
             ],
             [
              0.6666666666666666,
              "#ed7953"
             ],
             [
              0.7777777777777778,
              "#fb9f3a"
             ],
             [
              0.8888888888888888,
              "#fdca26"
             ],
             [
              1,
              "#f0f921"
             ]
            ],
            "type": "histogram2dcontour"
           }
          ],
          "mesh3d": [
           {
            "colorbar": {
             "outlinewidth": 0,
             "ticks": ""
            },
            "type": "mesh3d"
           }
          ],
          "parcoords": [
           {
            "line": {
             "colorbar": {
              "outlinewidth": 0,
              "ticks": ""
             }
            },
            "type": "parcoords"
           }
          ],
          "pie": [
           {
            "automargin": true,
            "type": "pie"
           }
          ],
          "scatter": [
           {
            "marker": {
             "line": {
              "color": "#283442"
             }
            },
            "type": "scatter"
           }
          ],
          "scatter3d": [
           {
            "line": {
             "colorbar": {
              "outlinewidth": 0,
              "ticks": ""
             }
            },
            "marker": {
             "colorbar": {
              "outlinewidth": 0,
              "ticks": ""
             }
            },
            "type": "scatter3d"
           }
          ],
          "scattercarpet": [
           {
            "marker": {
             "colorbar": {
              "outlinewidth": 0,
              "ticks": ""
             }
            },
            "type": "scattercarpet"
           }
          ],
          "scattergeo": [
           {
            "marker": {
             "colorbar": {
              "outlinewidth": 0,
              "ticks": ""
             }
            },
            "type": "scattergeo"
           }
          ],
          "scattergl": [
           {
            "marker": {
             "line": {
              "color": "#283442"
             }
            },
            "type": "scattergl"
           }
          ],
          "scattermapbox": [
           {
            "marker": {
             "colorbar": {
              "outlinewidth": 0,
              "ticks": ""
             }
            },
            "type": "scattermapbox"
           }
          ],
          "scatterpolar": [
           {
            "marker": {
             "colorbar": {
              "outlinewidth": 0,
              "ticks": ""
             }
            },
            "type": "scatterpolar"
           }
          ],
          "scatterpolargl": [
           {
            "marker": {
             "colorbar": {
              "outlinewidth": 0,
              "ticks": ""
             }
            },
            "type": "scatterpolargl"
           }
          ],
          "scatterternary": [
           {
            "marker": {
             "colorbar": {
              "outlinewidth": 0,
              "ticks": ""
             }
            },
            "type": "scatterternary"
           }
          ],
          "surface": [
           {
            "colorbar": {
             "outlinewidth": 0,
             "ticks": ""
            },
            "colorscale": [
             [
              0,
              "#0d0887"
             ],
             [
              0.1111111111111111,
              "#46039f"
             ],
             [
              0.2222222222222222,
              "#7201a8"
             ],
             [
              0.3333333333333333,
              "#9c179e"
             ],
             [
              0.4444444444444444,
              "#bd3786"
             ],
             [
              0.5555555555555556,
              "#d8576b"
             ],
             [
              0.6666666666666666,
              "#ed7953"
             ],
             [
              0.7777777777777778,
              "#fb9f3a"
             ],
             [
              0.8888888888888888,
              "#fdca26"
             ],
             [
              1,
              "#f0f921"
             ]
            ],
            "type": "surface"
           }
          ],
          "table": [
           {
            "cells": {
             "fill": {
              "color": "#506784"
             },
             "line": {
              "color": "rgb(17,17,17)"
             }
            },
            "header": {
             "fill": {
              "color": "#2a3f5f"
             },
             "line": {
              "color": "rgb(17,17,17)"
             }
            },
            "type": "table"
           }
          ]
         },
         "layout": {
          "annotationdefaults": {
           "arrowcolor": "#f2f5fa",
           "arrowhead": 0,
           "arrowwidth": 1
          },
          "autotypenumbers": "strict",
          "coloraxis": {
           "colorbar": {
            "outlinewidth": 0,
            "ticks": ""
           }
          },
          "colorscale": {
           "diverging": [
            [
             0,
             "#8e0152"
            ],
            [
             0.1,
             "#c51b7d"
            ],
            [
             0.2,
             "#de77ae"
            ],
            [
             0.3,
             "#f1b6da"
            ],
            [
             0.4,
             "#fde0ef"
            ],
            [
             0.5,
             "#f7f7f7"
            ],
            [
             0.6,
             "#e6f5d0"
            ],
            [
             0.7,
             "#b8e186"
            ],
            [
             0.8,
             "#7fbc41"
            ],
            [
             0.9,
             "#4d9221"
            ],
            [
             1,
             "#276419"
            ]
           ],
           "sequential": [
            [
             0,
             "#0d0887"
            ],
            [
             0.1111111111111111,
             "#46039f"
            ],
            [
             0.2222222222222222,
             "#7201a8"
            ],
            [
             0.3333333333333333,
             "#9c179e"
            ],
            [
             0.4444444444444444,
             "#bd3786"
            ],
            [
             0.5555555555555556,
             "#d8576b"
            ],
            [
             0.6666666666666666,
             "#ed7953"
            ],
            [
             0.7777777777777778,
             "#fb9f3a"
            ],
            [
             0.8888888888888888,
             "#fdca26"
            ],
            [
             1,
             "#f0f921"
            ]
           ],
           "sequentialminus": [
            [
             0,
             "#0d0887"
            ],
            [
             0.1111111111111111,
             "#46039f"
            ],
            [
             0.2222222222222222,
             "#7201a8"
            ],
            [
             0.3333333333333333,
             "#9c179e"
            ],
            [
             0.4444444444444444,
             "#bd3786"
            ],
            [
             0.5555555555555556,
             "#d8576b"
            ],
            [
             0.6666666666666666,
             "#ed7953"
            ],
            [
             0.7777777777777778,
             "#fb9f3a"
            ],
            [
             0.8888888888888888,
             "#fdca26"
            ],
            [
             1,
             "#f0f921"
            ]
           ]
          },
          "colorway": [
           "#636efa",
           "#EF553B",
           "#00cc96",
           "#ab63fa",
           "#FFA15A",
           "#19d3f3",
           "#FF6692",
           "#B6E880",
           "#FF97FF",
           "#FECB52"
          ],
          "font": {
           "color": "#f2f5fa"
          },
          "geo": {
           "bgcolor": "rgb(17,17,17)",
           "lakecolor": "rgb(17,17,17)",
           "landcolor": "rgb(17,17,17)",
           "showlakes": true,
           "showland": true,
           "subunitcolor": "#506784"
          },
          "hoverlabel": {
           "align": "left"
          },
          "hovermode": "closest",
          "mapbox": {
           "style": "dark"
          },
          "paper_bgcolor": "rgb(17,17,17)",
          "plot_bgcolor": "rgb(17,17,17)",
          "polar": {
           "angularaxis": {
            "gridcolor": "#506784",
            "linecolor": "#506784",
            "ticks": ""
           },
           "bgcolor": "rgb(17,17,17)",
           "radialaxis": {
            "gridcolor": "#506784",
            "linecolor": "#506784",
            "ticks": ""
           }
          },
          "scene": {
           "xaxis": {
            "backgroundcolor": "rgb(17,17,17)",
            "gridcolor": "#506784",
            "gridwidth": 2,
            "linecolor": "#506784",
            "showbackground": true,
            "ticks": "",
            "zerolinecolor": "#C8D4E3"
           },
           "yaxis": {
            "backgroundcolor": "rgb(17,17,17)",
            "gridcolor": "#506784",
            "gridwidth": 2,
            "linecolor": "#506784",
            "showbackground": true,
            "ticks": "",
            "zerolinecolor": "#C8D4E3"
           },
           "zaxis": {
            "backgroundcolor": "rgb(17,17,17)",
            "gridcolor": "#506784",
            "gridwidth": 2,
            "linecolor": "#506784",
            "showbackground": true,
            "ticks": "",
            "zerolinecolor": "#C8D4E3"
           }
          },
          "shapedefaults": {
           "line": {
            "color": "#f2f5fa"
           }
          },
          "sliderdefaults": {
           "bgcolor": "#C8D4E3",
           "bordercolor": "rgb(17,17,17)",
           "borderwidth": 1,
           "tickwidth": 0
          },
          "ternary": {
           "aaxis": {
            "gridcolor": "#506784",
            "linecolor": "#506784",
            "ticks": ""
           },
           "baxis": {
            "gridcolor": "#506784",
            "linecolor": "#506784",
            "ticks": ""
           },
           "bgcolor": "rgb(17,17,17)",
           "caxis": {
            "gridcolor": "#506784",
            "linecolor": "#506784",
            "ticks": ""
           }
          },
          "title": {
           "x": 0.05
          },
          "updatemenudefaults": {
           "bgcolor": "#506784",
           "borderwidth": 0
          },
          "xaxis": {
           "automargin": true,
           "gridcolor": "#283442",
           "linecolor": "#506784",
           "ticks": "",
           "title": {
            "standoff": 15
           },
           "zerolinecolor": "#283442",
           "zerolinewidth": 2
          },
          "yaxis": {
           "automargin": true,
           "gridcolor": "#283442",
           "linecolor": "#506784",
           "ticks": "",
           "title": {
            "standoff": 15
           },
           "zerolinecolor": "#283442",
           "zerolinewidth": 2
          }
         }
        },
        "title": {
         "text": "Global Electricity net imports in 2021"
        },
        "width": 800
       }
      }
     },
     "metadata": {},
     "output_type": "display_data"
    }
   ],
   "source": [
    "def get_map(year: int, feature_type: str):\n",
    "    data_feature: pd.DataFrame = data[data[\"Features\"] == feature_type].copy()\n",
    "    data_feature.drop(columns=[\"Features\"], inplace=True)\n",
    "    data_feature.reset_index(drop=True, inplace=True)\n",
    "\n",
    "    data_feature_year = data_feature.filter([\"Country\", str(year)], axis=1).copy()\n",
    "    data_feature_year.rename(columns={str(year): feature_type}, inplace=True)\n",
    "\n",
    "    country = coco.convert(names = data_feature_year['Country'], to = \"ISO3\")\n",
    "    data_feature_year['Country_Short'] = country\n",
    "\n",
    "    fig = px.choropleth(data_frame=data_feature_year,\n",
    "                        locations = \"Country_Short\",\n",
    "                        color = feature_type,\n",
    "                        range_color=(0, max(data_feature_year[feature_type])),\n",
    "                        color_continuous_scale = [[0, '#0d0887'],\n",
    "                        [0.01, '#46039f'],\n",
    "                        [0.03, '#7201a8'],\n",
    "                        [0.5, '#9c179e'],\n",
    "                        [0.7, '#bd3786'],\n",
    "                        [0.9, '#d8576b'],\n",
    "                        [1, '#ed7953']\n",
    "                        ],\n",
    "                        #  focus='south america',\n",
    "                        title = f'Global Electricity {feature_type} in {year}',\n",
    "                        hover_name = \"Country\",\n",
    "                        hover_data = [feature_type],)\n",
    "    fig.update_layout(height=500, width=800)\n",
    "    return fig\n",
    "\n",
    "get_map(2021, \"net imports\")"
   ]
  },
  {
   "cell_type": "code",
   "execution_count": 63,
   "metadata": {},
   "outputs": [
    {
     "data": {
      "text/html": [
       "<div>\n",
       "<style scoped>\n",
       "    .dataframe tbody tr th:only-of-type {\n",
       "        vertical-align: middle;\n",
       "    }\n",
       "\n",
       "    .dataframe tbody tr th {\n",
       "        vertical-align: top;\n",
       "    }\n",
       "\n",
       "    .dataframe thead th {\n",
       "        text-align: right;\n",
       "    }\n",
       "</style>\n",
       "<table border=\"1\" class=\"dataframe\">\n",
       "  <thead>\n",
       "    <tr style=\"text-align: right;\">\n",
       "      <th></th>\n",
       "      <th>Country</th>\n",
       "      <th>Region</th>\n",
       "      <th>1980</th>\n",
       "      <th>1981</th>\n",
       "      <th>1982</th>\n",
       "      <th>1983</th>\n",
       "      <th>1984</th>\n",
       "      <th>1985</th>\n",
       "      <th>1986</th>\n",
       "      <th>1987</th>\n",
       "      <th>...</th>\n",
       "      <th>2012</th>\n",
       "      <th>2013</th>\n",
       "      <th>2014</th>\n",
       "      <th>2015</th>\n",
       "      <th>2016</th>\n",
       "      <th>2017</th>\n",
       "      <th>2018</th>\n",
       "      <th>2019</th>\n",
       "      <th>2020</th>\n",
       "      <th>2021</th>\n",
       "    </tr>\n",
       "  </thead>\n",
       "  <tbody>\n",
       "    <tr>\n",
       "      <th>0</th>\n",
       "      <td>Afghanistan</td>\n",
       "      <td>Asia &amp; Oceania</td>\n",
       "      <td>0.942</td>\n",
       "      <td>0.992</td>\n",
       "      <td>0.952</td>\n",
       "      <td>1.0</td>\n",
       "      <td>1.019</td>\n",
       "      <td>1.034</td>\n",
       "      <td>1.135</td>\n",
       "      <td>1.218</td>\n",
       "      <td>...</td>\n",
       "      <td>0.882</td>\n",
       "      <td>1.1034</td>\n",
       "      <td>1.159</td>\n",
       "      <td>1.1832</td>\n",
       "      <td>1.2147</td>\n",
       "      <td>1.26426</td>\n",
       "      <td>1.16493</td>\n",
       "      <td>1.07269</td>\n",
       "      <td>0.80728</td>\n",
       "      <td>0.829094</td>\n",
       "    </tr>\n",
       "  </tbody>\n",
       "</table>\n",
       "<p>1 rows × 44 columns</p>\n",
       "</div>"
      ],
      "text/plain": [
       "       Country          Region   1980   1981   1982  1983   1984   1985  \\\n",
       "0  Afghanistan  Asia & Oceania  0.942  0.992  0.952   1.0  1.019  1.034   \n",
       "\n",
       "    1986   1987  ...   2012    2013   2014    2015    2016     2017     2018  \\\n",
       "0  1.135  1.218  ...  0.882  1.1034  1.159  1.1832  1.2147  1.26426  1.16493   \n",
       "\n",
       "      2019     2020      2021  \n",
       "0  1.07269  0.80728  0.829094  \n",
       "\n",
       "[1 rows x 44 columns]"
      ]
     },
     "execution_count": 63,
     "metadata": {},
     "output_type": "execute_result"
    }
   ],
   "source": [
    "timeline"
   ]
  },
  {
   "cell_type": "code",
   "execution_count": 65,
   "metadata": {},
   "outputs": [
    {
     "name": "stdout",
     "output_type": "stream",
     "text": [
      "        Country          Region  Year  Production\n",
      "0   Afghanistan  Asia & Oceania  1980    0.942000\n",
      "1   Afghanistan  Asia & Oceania  1981    0.992000\n",
      "2   Afghanistan  Asia & Oceania  1982    0.952000\n",
      "3   Afghanistan  Asia & Oceania  1983    1.000000\n",
      "4   Afghanistan  Asia & Oceania  1984    1.019000\n",
      "5   Afghanistan  Asia & Oceania  1985    1.034000\n",
      "6   Afghanistan  Asia & Oceania  1986    1.135000\n",
      "7   Afghanistan  Asia & Oceania  1987    1.218000\n",
      "8   Afghanistan  Asia & Oceania  1988    1.080000\n",
      "9   Afghanistan  Asia & Oceania  1989    1.089000\n",
      "10  Afghanistan  Asia & Oceania  1990    1.098000\n",
      "11  Afghanistan  Asia & Oceania  1991    0.989000\n",
      "12  Afghanistan  Asia & Oceania  1992    0.685000\n",
      "13  Afghanistan  Asia & Oceania  1993    0.677000\n",
      "14  Afghanistan  Asia & Oceania  1994    0.669000\n",
      "15  Afghanistan  Asia & Oceania  1995    0.608000\n",
      "16  Afghanistan  Asia & Oceania  1996    0.549000\n",
      "17  Afghanistan  Asia & Oceania  1997    0.499000\n",
      "18  Afghanistan  Asia & Oceania  1998    0.460000\n",
      "19  Afghanistan  Asia & Oceania  1999    0.455000\n",
      "20  Afghanistan  Asia & Oceania  2000    0.467000\n",
      "21  Afghanistan  Asia & Oceania  2001    0.592000\n",
      "22  Afghanistan  Asia & Oceania  2002    0.687000\n",
      "23  Afghanistan  Asia & Oceania  2003    0.939000\n",
      "24  Afghanistan  Asia & Oceania  2004    0.894000\n",
      "25  Afghanistan  Asia & Oceania  2005    0.934000\n",
      "26  Afghanistan  Asia & Oceania  2006    0.837000\n",
      "27  Afghanistan  Asia & Oceania  2007    0.946000\n",
      "28  Afghanistan  Asia & Oceania  2008    0.728010\n",
      "29  Afghanistan  Asia & Oceania  2009    0.938100\n",
      "30  Afghanistan  Asia & Oceania  2010    0.936300\n",
      "31  Afghanistan  Asia & Oceania  2011    0.771300\n",
      "32  Afghanistan  Asia & Oceania  2012    0.882000\n",
      "33  Afghanistan  Asia & Oceania  2013    1.103400\n",
      "34  Afghanistan  Asia & Oceania  2014    1.159000\n",
      "35  Afghanistan  Asia & Oceania  2015    1.183200\n",
      "36  Afghanistan  Asia & Oceania  2016    1.214700\n",
      "37  Afghanistan  Asia & Oceania  2017    1.264260\n",
      "38  Afghanistan  Asia & Oceania  2018    1.164930\n",
      "39  Afghanistan  Asia & Oceania  2019    1.072690\n",
      "40  Afghanistan  Asia & Oceania  2020    0.807280\n",
      "41  Afghanistan  Asia & Oceania  2021    0.829094\n"
     ]
    }
   ],
   "source": [
    "melted_df = pd.melt(timeline, id_vars=['Country', 'Region'], var_name='Year', value_name='Production')\n",
    "\n",
    "# Step 4: Rename the columns\n",
    "melted_df.columns = ['Country', 'Region', 'Year', 'Production']\n",
    "\n",
    "# Now 'melted_df' should have the desired transposed format\n",
    "print(melted_df)"
   ]
  },
  {
   "cell_type": "code",
   "execution_count": 66,
   "metadata": {},
   "outputs": [
    {
     "data": {
      "application/vnd.plotly.v1+json": {
       "config": {
        "plotlyServerURL": "https://plot.ly"
       },
       "data": [
        {
         "alignmentgroup": "True",
         "hovertemplate": "Region=Asia & Oceania<br>Year=%{x}<br>Production=%{y}<extra></extra>",
         "legendgroup": "Asia & Oceania",
         "marker": {
          "color": "#636efa",
          "pattern": {
           "shape": ""
          }
         },
         "name": "Asia & Oceania",
         "offsetgroup": "Asia & Oceania",
         "orientation": "v",
         "showlegend": true,
         "textposition": "auto",
         "type": "bar",
         "x": [
          "1980",
          "1981",
          "1982",
          "1983",
          "1984",
          "1985",
          "1986",
          "1987",
          "1988",
          "1989",
          "1990",
          "1991",
          "1992",
          "1993",
          "1994",
          "1995",
          "1996",
          "1997",
          "1998",
          "1999",
          "2000",
          "2001",
          "2002",
          "2003",
          "2004",
          "2005",
          "2006",
          "2007",
          "2008",
          "2009",
          "2010",
          "2011",
          "2012",
          "2013",
          "2014",
          "2015",
          "2016",
          "2017",
          "2018",
          "2019",
          "2020",
          "2021"
         ],
         "xaxis": "x",
         "y": [
          0.942,
          0.992,
          0.952,
          1,
          1.019,
          1.034,
          1.135,
          1.218,
          1.08,
          1.089,
          1.098,
          0.989,
          0.685,
          0.677,
          0.669,
          0.608,
          0.549,
          0.499,
          0.46,
          0.455,
          0.467,
          0.592,
          0.687,
          0.939,
          0.894,
          0.934,
          0.837,
          0.946,
          0.72801,
          0.9381,
          0.9363,
          0.7713,
          0.882,
          1.1034,
          1.159,
          1.1832,
          1.2147,
          1.26426,
          1.16493,
          1.07269,
          0.80728,
          0.82909392
         ],
         "yaxis": "y"
        }
       ],
       "layout": {
        "barmode": "relative",
        "legend": {
         "title": {
          "text": "Region"
         },
         "tracegroupgap": 0
        },
        "template": {
         "data": {
          "bar": [
           {
            "error_x": {
             "color": "#f2f5fa"
            },
            "error_y": {
             "color": "#f2f5fa"
            },
            "marker": {
             "line": {
              "color": "rgb(17,17,17)",
              "width": 0.5
             },
             "pattern": {
              "fillmode": "overlay",
              "size": 10,
              "solidity": 0.2
             }
            },
            "type": "bar"
           }
          ],
          "barpolar": [
           {
            "marker": {
             "line": {
              "color": "rgb(17,17,17)",
              "width": 0.5
             },
             "pattern": {
              "fillmode": "overlay",
              "size": 10,
              "solidity": 0.2
             }
            },
            "type": "barpolar"
           }
          ],
          "carpet": [
           {
            "aaxis": {
             "endlinecolor": "#A2B1C6",
             "gridcolor": "#506784",
             "linecolor": "#506784",
             "minorgridcolor": "#506784",
             "startlinecolor": "#A2B1C6"
            },
            "baxis": {
             "endlinecolor": "#A2B1C6",
             "gridcolor": "#506784",
             "linecolor": "#506784",
             "minorgridcolor": "#506784",
             "startlinecolor": "#A2B1C6"
            },
            "type": "carpet"
           }
          ],
          "choropleth": [
           {
            "colorbar": {
             "outlinewidth": 0,
             "ticks": ""
            },
            "type": "choropleth"
           }
          ],
          "contour": [
           {
            "colorbar": {
             "outlinewidth": 0,
             "ticks": ""
            },
            "colorscale": [
             [
              0,
              "#0d0887"
             ],
             [
              0.1111111111111111,
              "#46039f"
             ],
             [
              0.2222222222222222,
              "#7201a8"
             ],
             [
              0.3333333333333333,
              "#9c179e"
             ],
             [
              0.4444444444444444,
              "#bd3786"
             ],
             [
              0.5555555555555556,
              "#d8576b"
             ],
             [
              0.6666666666666666,
              "#ed7953"
             ],
             [
              0.7777777777777778,
              "#fb9f3a"
             ],
             [
              0.8888888888888888,
              "#fdca26"
             ],
             [
              1,
              "#f0f921"
             ]
            ],
            "type": "contour"
           }
          ],
          "contourcarpet": [
           {
            "colorbar": {
             "outlinewidth": 0,
             "ticks": ""
            },
            "type": "contourcarpet"
           }
          ],
          "heatmap": [
           {
            "colorbar": {
             "outlinewidth": 0,
             "ticks": ""
            },
            "colorscale": [
             [
              0,
              "#0d0887"
             ],
             [
              0.1111111111111111,
              "#46039f"
             ],
             [
              0.2222222222222222,
              "#7201a8"
             ],
             [
              0.3333333333333333,
              "#9c179e"
             ],
             [
              0.4444444444444444,
              "#bd3786"
             ],
             [
              0.5555555555555556,
              "#d8576b"
             ],
             [
              0.6666666666666666,
              "#ed7953"
             ],
             [
              0.7777777777777778,
              "#fb9f3a"
             ],
             [
              0.8888888888888888,
              "#fdca26"
             ],
             [
              1,
              "#f0f921"
             ]
            ],
            "type": "heatmap"
           }
          ],
          "heatmapgl": [
           {
            "colorbar": {
             "outlinewidth": 0,
             "ticks": ""
            },
            "colorscale": [
             [
              0,
              "#0d0887"
             ],
             [
              0.1111111111111111,
              "#46039f"
             ],
             [
              0.2222222222222222,
              "#7201a8"
             ],
             [
              0.3333333333333333,
              "#9c179e"
             ],
             [
              0.4444444444444444,
              "#bd3786"
             ],
             [
              0.5555555555555556,
              "#d8576b"
             ],
             [
              0.6666666666666666,
              "#ed7953"
             ],
             [
              0.7777777777777778,
              "#fb9f3a"
             ],
             [
              0.8888888888888888,
              "#fdca26"
             ],
             [
              1,
              "#f0f921"
             ]
            ],
            "type": "heatmapgl"
           }
          ],
          "histogram": [
           {
            "marker": {
             "pattern": {
              "fillmode": "overlay",
              "size": 10,
              "solidity": 0.2
             }
            },
            "type": "histogram"
           }
          ],
          "histogram2d": [
           {
            "colorbar": {
             "outlinewidth": 0,
             "ticks": ""
            },
            "colorscale": [
             [
              0,
              "#0d0887"
             ],
             [
              0.1111111111111111,
              "#46039f"
             ],
             [
              0.2222222222222222,
              "#7201a8"
             ],
             [
              0.3333333333333333,
              "#9c179e"
             ],
             [
              0.4444444444444444,
              "#bd3786"
             ],
             [
              0.5555555555555556,
              "#d8576b"
             ],
             [
              0.6666666666666666,
              "#ed7953"
             ],
             [
              0.7777777777777778,
              "#fb9f3a"
             ],
             [
              0.8888888888888888,
              "#fdca26"
             ],
             [
              1,
              "#f0f921"
             ]
            ],
            "type": "histogram2d"
           }
          ],
          "histogram2dcontour": [
           {
            "colorbar": {
             "outlinewidth": 0,
             "ticks": ""
            },
            "colorscale": [
             [
              0,
              "#0d0887"
             ],
             [
              0.1111111111111111,
              "#46039f"
             ],
             [
              0.2222222222222222,
              "#7201a8"
             ],
             [
              0.3333333333333333,
              "#9c179e"
             ],
             [
              0.4444444444444444,
              "#bd3786"
             ],
             [
              0.5555555555555556,
              "#d8576b"
             ],
             [
              0.6666666666666666,
              "#ed7953"
             ],
             [
              0.7777777777777778,
              "#fb9f3a"
             ],
             [
              0.8888888888888888,
              "#fdca26"
             ],
             [
              1,
              "#f0f921"
             ]
            ],
            "type": "histogram2dcontour"
           }
          ],
          "mesh3d": [
           {
            "colorbar": {
             "outlinewidth": 0,
             "ticks": ""
            },
            "type": "mesh3d"
           }
          ],
          "parcoords": [
           {
            "line": {
             "colorbar": {
              "outlinewidth": 0,
              "ticks": ""
             }
            },
            "type": "parcoords"
           }
          ],
          "pie": [
           {
            "automargin": true,
            "type": "pie"
           }
          ],
          "scatter": [
           {
            "marker": {
             "line": {
              "color": "#283442"
             }
            },
            "type": "scatter"
           }
          ],
          "scatter3d": [
           {
            "line": {
             "colorbar": {
              "outlinewidth": 0,
              "ticks": ""
             }
            },
            "marker": {
             "colorbar": {
              "outlinewidth": 0,
              "ticks": ""
             }
            },
            "type": "scatter3d"
           }
          ],
          "scattercarpet": [
           {
            "marker": {
             "colorbar": {
              "outlinewidth": 0,
              "ticks": ""
             }
            },
            "type": "scattercarpet"
           }
          ],
          "scattergeo": [
           {
            "marker": {
             "colorbar": {
              "outlinewidth": 0,
              "ticks": ""
             }
            },
            "type": "scattergeo"
           }
          ],
          "scattergl": [
           {
            "marker": {
             "line": {
              "color": "#283442"
             }
            },
            "type": "scattergl"
           }
          ],
          "scattermapbox": [
           {
            "marker": {
             "colorbar": {
              "outlinewidth": 0,
              "ticks": ""
             }
            },
            "type": "scattermapbox"
           }
          ],
          "scatterpolar": [
           {
            "marker": {
             "colorbar": {
              "outlinewidth": 0,
              "ticks": ""
             }
            },
            "type": "scatterpolar"
           }
          ],
          "scatterpolargl": [
           {
            "marker": {
             "colorbar": {
              "outlinewidth": 0,
              "ticks": ""
             }
            },
            "type": "scatterpolargl"
           }
          ],
          "scatterternary": [
           {
            "marker": {
             "colorbar": {
              "outlinewidth": 0,
              "ticks": ""
             }
            },
            "type": "scatterternary"
           }
          ],
          "surface": [
           {
            "colorbar": {
             "outlinewidth": 0,
             "ticks": ""
            },
            "colorscale": [
             [
              0,
              "#0d0887"
             ],
             [
              0.1111111111111111,
              "#46039f"
             ],
             [
              0.2222222222222222,
              "#7201a8"
             ],
             [
              0.3333333333333333,
              "#9c179e"
             ],
             [
              0.4444444444444444,
              "#bd3786"
             ],
             [
              0.5555555555555556,
              "#d8576b"
             ],
             [
              0.6666666666666666,
              "#ed7953"
             ],
             [
              0.7777777777777778,
              "#fb9f3a"
             ],
             [
              0.8888888888888888,
              "#fdca26"
             ],
             [
              1,
              "#f0f921"
             ]
            ],
            "type": "surface"
           }
          ],
          "table": [
           {
            "cells": {
             "fill": {
              "color": "#506784"
             },
             "line": {
              "color": "rgb(17,17,17)"
             }
            },
            "header": {
             "fill": {
              "color": "#2a3f5f"
             },
             "line": {
              "color": "rgb(17,17,17)"
             }
            },
            "type": "table"
           }
          ]
         },
         "layout": {
          "annotationdefaults": {
           "arrowcolor": "#f2f5fa",
           "arrowhead": 0,
           "arrowwidth": 1
          },
          "autotypenumbers": "strict",
          "coloraxis": {
           "colorbar": {
            "outlinewidth": 0,
            "ticks": ""
           }
          },
          "colorscale": {
           "diverging": [
            [
             0,
             "#8e0152"
            ],
            [
             0.1,
             "#c51b7d"
            ],
            [
             0.2,
             "#de77ae"
            ],
            [
             0.3,
             "#f1b6da"
            ],
            [
             0.4,
             "#fde0ef"
            ],
            [
             0.5,
             "#f7f7f7"
            ],
            [
             0.6,
             "#e6f5d0"
            ],
            [
             0.7,
             "#b8e186"
            ],
            [
             0.8,
             "#7fbc41"
            ],
            [
             0.9,
             "#4d9221"
            ],
            [
             1,
             "#276419"
            ]
           ],
           "sequential": [
            [
             0,
             "#0d0887"
            ],
            [
             0.1111111111111111,
             "#46039f"
            ],
            [
             0.2222222222222222,
             "#7201a8"
            ],
            [
             0.3333333333333333,
             "#9c179e"
            ],
            [
             0.4444444444444444,
             "#bd3786"
            ],
            [
             0.5555555555555556,
             "#d8576b"
            ],
            [
             0.6666666666666666,
             "#ed7953"
            ],
            [
             0.7777777777777778,
             "#fb9f3a"
            ],
            [
             0.8888888888888888,
             "#fdca26"
            ],
            [
             1,
             "#f0f921"
            ]
           ],
           "sequentialminus": [
            [
             0,
             "#0d0887"
            ],
            [
             0.1111111111111111,
             "#46039f"
            ],
            [
             0.2222222222222222,
             "#7201a8"
            ],
            [
             0.3333333333333333,
             "#9c179e"
            ],
            [
             0.4444444444444444,
             "#bd3786"
            ],
            [
             0.5555555555555556,
             "#d8576b"
            ],
            [
             0.6666666666666666,
             "#ed7953"
            ],
            [
             0.7777777777777778,
             "#fb9f3a"
            ],
            [
             0.8888888888888888,
             "#fdca26"
            ],
            [
             1,
             "#f0f921"
            ]
           ]
          },
          "colorway": [
           "#636efa",
           "#EF553B",
           "#00cc96",
           "#ab63fa",
           "#FFA15A",
           "#19d3f3",
           "#FF6692",
           "#B6E880",
           "#FF97FF",
           "#FECB52"
          ],
          "font": {
           "color": "#f2f5fa"
          },
          "geo": {
           "bgcolor": "rgb(17,17,17)",
           "lakecolor": "rgb(17,17,17)",
           "landcolor": "rgb(17,17,17)",
           "showlakes": true,
           "showland": true,
           "subunitcolor": "#506784"
          },
          "hoverlabel": {
           "align": "left"
          },
          "hovermode": "closest",
          "mapbox": {
           "style": "dark"
          },
          "paper_bgcolor": "rgb(17,17,17)",
          "plot_bgcolor": "rgb(17,17,17)",
          "polar": {
           "angularaxis": {
            "gridcolor": "#506784",
            "linecolor": "#506784",
            "ticks": ""
           },
           "bgcolor": "rgb(17,17,17)",
           "radialaxis": {
            "gridcolor": "#506784",
            "linecolor": "#506784",
            "ticks": ""
           }
          },
          "scene": {
           "xaxis": {
            "backgroundcolor": "rgb(17,17,17)",
            "gridcolor": "#506784",
            "gridwidth": 2,
            "linecolor": "#506784",
            "showbackground": true,
            "ticks": "",
            "zerolinecolor": "#C8D4E3"
           },
           "yaxis": {
            "backgroundcolor": "rgb(17,17,17)",
            "gridcolor": "#506784",
            "gridwidth": 2,
            "linecolor": "#506784",
            "showbackground": true,
            "ticks": "",
            "zerolinecolor": "#C8D4E3"
           },
           "zaxis": {
            "backgroundcolor": "rgb(17,17,17)",
            "gridcolor": "#506784",
            "gridwidth": 2,
            "linecolor": "#506784",
            "showbackground": true,
            "ticks": "",
            "zerolinecolor": "#C8D4E3"
           }
          },
          "shapedefaults": {
           "line": {
            "color": "#f2f5fa"
           }
          },
          "sliderdefaults": {
           "bgcolor": "#C8D4E3",
           "bordercolor": "rgb(17,17,17)",
           "borderwidth": 1,
           "tickwidth": 0
          },
          "ternary": {
           "aaxis": {
            "gridcolor": "#506784",
            "linecolor": "#506784",
            "ticks": ""
           },
           "baxis": {
            "gridcolor": "#506784",
            "linecolor": "#506784",
            "ticks": ""
           },
           "bgcolor": "rgb(17,17,17)",
           "caxis": {
            "gridcolor": "#506784",
            "linecolor": "#506784",
            "ticks": ""
           }
          },
          "title": {
           "x": 0.05
          },
          "updatemenudefaults": {
           "bgcolor": "#506784",
           "borderwidth": 0
          },
          "xaxis": {
           "automargin": true,
           "gridcolor": "#283442",
           "linecolor": "#506784",
           "ticks": "",
           "title": {
            "standoff": 15
           },
           "zerolinecolor": "#283442",
           "zerolinewidth": 2
          },
          "yaxis": {
           "automargin": true,
           "gridcolor": "#283442",
           "linecolor": "#506784",
           "ticks": "",
           "title": {
            "standoff": 15
           },
           "zerolinecolor": "#283442",
           "zerolinewidth": 2
          }
         }
        },
        "title": {
         "text": "Afghanistan's Net Generation"
        },
        "xaxis": {
         "anchor": "y",
         "domain": [
          0,
          1
         ],
         "dtick": 1,
         "tick0": 1980,
         "tickmode": "linear",
         "title": {
          "text": "Year"
         }
        },
        "yaxis": {
         "anchor": "x",
         "domain": [
          0,
          1
         ],
         "title": {
          "text": "Production"
         }
        }
       }
      }
     },
     "metadata": {},
     "output_type": "display_data"
    }
   ],
   "source": [
    "timeline = data_net_generation[data_net_generation[\"Country\"] == \"Afghanistan\"].copy()\n",
    "\n",
    "bars = px.bar(melted_df, x=\"Year\", y=\"Production\", color=\"Region\", title=\"Afghanistan's Net Generation\")\n",
    "\n",
    "bars.update_layout(\n",
    "    xaxis = dict(\n",
    "        tickmode = 'linear',\n",
    "        tick0 = 1980,\n",
    "        dtick = 1\n",
    "    )\n",
    ")\n",
    "\n",
    "bars.show()"
   ]
  },
  {
   "cell_type": "markdown",
   "metadata": {},
   "source": [
    "# Main dashly app"
   ]
  },
  {
   "cell_type": "code",
   "execution_count": null,
   "metadata": {},
   "outputs": [
    {
     "name": "stdout",
     "output_type": "stream",
     "text": [
      "Dash app running on http://127.0.0.1:8999/\n"
     ]
    },
    {
     "name": "stderr",
     "output_type": "stream",
     "text": [
      "Former Serbia and Montenegro not found in regex\n",
      "USSR not found in regex\n",
      "Former Yugoslavia not found in regex\n",
      "Germany, East not found in regex\n",
      "Germany, West not found in regex\n",
      "Hawaiian Trade Zone not found in regex\n",
      "Netherlands Antilles not found in regex\n",
      "U.S. Pacific Islands not found in regex\n",
      "U.S. Territories not found in regex\n",
      "Wake Island not found in regex\n"
     ]
    }
   ],
   "source": [
    "from dash import Dash, html, dcc, Input, Output, dash_table\n",
    "\n",
    "app = Dash(__name__)\n",
    "\n",
    "#*******APP LAYOUT**************\n",
    "\n",
    "app.layout = html.Div(\n",
    "\n",
    "    style={'backgroundColor':'#323130',\n",
    "        'height': '100%',\n",
    "        'color': 'white',\n",
    "        'margin': 0,\n",
    "        'padding': '15px' \n",
    "    }, \n",
    "\n",
    "    children=[\n",
    "        html.H1(\n",
    "            children='Global Electricity Statistics',\n",
    "            style={\n",
    "                'textAlign': 'center',\n",
    "                'color': 'white'\n",
    "            }\n",
    "        ),\n",
    "\n",
    "        html.Div(children='''Dash: A web application framework for Python.''',\n",
    "                style={\n",
    "                    'textAlign': 'center',\n",
    "                    'color': 'white'\n",
    "                }\n",
    "        ),\n",
    "\n",
    "        dcc.Dropdown(\n",
    "            id='country_dropdown',\n",
    "            options=[{'label': i, 'value': i} for i in countries],\n",
    "            value='United States of America',\n",
    "            style={'color': 'black'}\n",
    "        ),\n",
    "\n",
    "        html.Div([\n",
    "            \n",
    "            dcc.Graph(\n",
    "                id='graph',\n",
    "                figure=fig,\n",
    "                style={'width': '100%', 'display': 'inline-block'}\n",
    "            ),\n",
    "        \n",
    "        ], id=\"main_component\"),\n",
    "        \n",
    "        html.Div(id=\"controls\", children= [    \n",
    "            html.Div([\n",
    "                html.Div([\n",
    "                    dcc.Markdown('**Features**'),\n",
    "                    dcc.Dropdown(options=[{'label': feat, 'value': feat} for feat in data[\"Features\"]],\n",
    "                                value='net generation',\n",
    "                                id='feature_type',\n",
    "                                style={'color': 'black'}),\n",
    "                ], style={'width': '20%', 'display': 'inline-block', 'margin-right': '2%'}),\n",
    "\n",
    "                html.Div([\n",
    "                    dcc.Markdown('**Years**'),\n",
    "                    dcc.Slider(1980, 2021, step=1, value=2021, id='slider',\n",
    "                            marks={i: '{}'.format(i) for i in range(1980, 2021, 10)},\n",
    "                            tooltip={'placement': 'bottom', 'always_visible': True}),\n",
    "                ], style={'width': '55%', 'display': 'inline-block', 'margin-right': '2%'}),\n",
    "\n",
    "                html.Div([\n",
    "                    html.Button('Compare countries', id='comparison_button', style={'margin-right': '5%', 'height': '100%'}),\n",
    "                    html.Button('Main map mode', id='main_map_button', style={'height': '100%'}),\n",
    "                ], style={'width': '20%', 'display': 'inline-block'}),\n",
    "            ], style={'height': '100vh'}),\n",
    "        ]),\n",
    "    ],\n",
    ")\n",
    "\n",
    "#**************FUNCTIONS*****************************\n",
    "\n",
    "def get_map(year: int, feature_type: str):\n",
    "    data_feature: pd.DataFrame = data[data[\"Features\"] == feature_type].copy()\n",
    "    data_feature.drop(columns=[\"Features\"], inplace=True)\n",
    "    data_feature.reset_index(drop=True, inplace=True)\n",
    "\n",
    "    data_feature_year = data_feature.filter([\"Country\", str(year)], axis=1).copy()\n",
    "    data_feature_year.rename(columns={str(year): feature_type}, inplace=True)\n",
    "\n",
    "    country = coco.convert(names = data_feature_year['Country'], to = \"ISO3\")\n",
    "    data_feature_year['Country_Short'] = country\n",
    "\n",
    "    fig = px.choropleth(data_frame=data_feature_year,\n",
    "                        locations = \"Country_Short\",\n",
    "                        color = feature_type,\n",
    "                        range_color=(0, max(data_feature_year[feature_type])),\n",
    "                        color_continuous_scale = [[0, '#0d0887'],\n",
    "                        [0.01, '#46039f'],\n",
    "                        [0.03, '#7201a8'],\n",
    "                        [0.5, '#9c179e'],\n",
    "                        [0.7, '#bd3786'],\n",
    "                        [0.9, '#d8576b'],\n",
    "                        [1, '#ed7953']\n",
    "                        ],\n",
    "                        #  focus='south america',\n",
    "                        title = f'Global Electricity {feature_type} in {year}',\n",
    "                        hover_name = \"Country\",\n",
    "                        hover_data = [feature_type],)\n",
    "    fig.update_layout(height=500, width=800)\n",
    "    return fig\n",
    "\n",
    "#*************CALLBACKS*****************************************\n",
    "\n",
    "#radio/slider->map\n",
    "@app.callback(\n",
    "    Output('graph', 'figure'),\n",
    "    Input('slider', 'value'),\n",
    "    Input('feature_type', 'value')\n",
    ")\n",
    "def update_map(year, feature_type):\n",
    "    fig = get_map(year, feature_type)\n",
    "    return fig\n",
    "\n",
    "#timeline->slider\n",
    "\"\"\"@app.callback(\n",
    "    Output('slider', 'value'),\n",
    "    Input('timeline', 'clickData')\n",
    ")\n",
    "def update_year(clickData):\n",
    "    year = 2021\n",
    "    if clickData is not None:\n",
    "        year = clickData['points'][0]['x']\n",
    "    return year\n",
    "\"\"\"\n",
    "\n",
    "#********RUNNING THE APP*************************************************\n",
    "if __name__ == '__main__':\n",
    "    app.run_server(debug=True, port=\"8999\", jupyter_mode=\"external\") # inline/tab/external jupyter_mode=\"external\", "
   ]
  },
  {
   "cell_type": "code",
   "execution_count": null,
   "metadata": {},
   "outputs": [],
   "source": []
  }
 ],
 "metadata": {
  "kernelspec": {
   "display_name": "Python 3",
   "language": "python",
   "name": "python3"
  },
  "language_info": {
   "codemirror_mode": {
    "name": "ipython",
    "version": 3
   },
   "file_extension": ".py",
   "mimetype": "text/x-python",
   "name": "python",
   "nbconvert_exporter": "python",
   "pygments_lexer": "ipython3",
   "version": "3.9.13"
  }
 },
 "nbformat": 4,
 "nbformat_minor": 2
}
