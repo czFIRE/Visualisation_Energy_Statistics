{
 "cells": [
  {
   "cell_type": "markdown",
   "metadata": {},
   "source": [
    "# Global energy statistics visualisation\n",
    "\n",
    "This jupyter notebook has been created to visualise the global energy statistics dataset from this kaggle dataset: https://www.kaggle.com/datasets/akhiljethwa/global-electricity-statistics/"
   ]
  },
  {
   "cell_type": "markdown",
   "metadata": {},
   "source": [
    "## Module Loading and Data Import"
   ]
  },
  {
   "cell_type": "code",
   "execution_count": null,
   "metadata": {},
   "outputs": [],
   "source": [
    "# For Data Analysis\n",
    "import numpy as np\n",
    "import pandas as pd\n",
    "import matplotlib.pyplot as plt\n",
    "import seaborn as sns\n",
    "\n",
    "# For Data Visualization\n",
    "import plotly.express as px\n",
    "import plotly.io as pio\n",
    "\n",
    "# Addidtional Imports\n",
    "from termcolor import colored\n",
    "import country_converter as coco\n",
    "import datetime\n",
    "import calendar\n",
    "import json"
   ]
  },
  {
   "cell_type": "code",
   "execution_count": null,
   "metadata": {},
   "outputs": [],
   "source": [
    "# Set Plotly Template\n",
    "pio.templates.default = \"plotly_dark\""
   ]
  },
  {
   "cell_type": "code",
   "execution_count": null,
   "metadata": {},
   "outputs": [],
   "source": [
    "data = pd.read_csv(\"./data/Global Electricity Statistics.csv\")\n",
    "map_json = json.load(open(\"./data/countries.json\", \"r\"))"
   ]
  },
  {
   "cell_type": "markdown",
   "metadata": {},
   "source": [
    "## Preparing dataframes"
   ]
  },
  {
   "cell_type": "markdown",
   "metadata": {},
   "source": [
    "For our visualization we will need to preprocess our data a little.\n",
    "\n",
    "**Get list of countries from geojson and prepare dataframe with Country and Year columns**\n",
    "\n",
    "To get countries:\n",
    "- iterate over \"features\" in map gejson and extract \"geounit\" name form feature's \"properties\"\n",
    "- use set() to remove possible duplicates\n",
    "- you can use asterisk (*) to unpack iterables into a list\n",
    "- sort countries by name "
   ]
  },
  {
   "cell_type": "code",
   "execution_count": null,
   "metadata": {},
   "outputs": [],
   "source": [
    "countries = []\n",
    "\n",
    "for feature in map_json[\"features\"]:\n",
    "      countries.append(feature[\"properties\"][\"geounit\"])\n",
    "\n",
    "countries=[*set(countries)]\n",
    "countries.sort()"
   ]
  },
  {
   "cell_type": "markdown",
   "metadata": {},
   "source": [
    "Now lets create dataframe, that will have columns Country and Year and **one row for every country-year combination in years 1942-2022** (those present in the dataset).\n",
    "We can get this by:\n",
    "- creating dataframe with countries (just turn the list into df)\n",
    "- creating dataframe with years (creat list of years and turn it to df)\n",
    "- creating a Caretsian product of the two dataframes"
   ]
  },
  {
   "cell_type": "code",
   "execution_count": null,
   "metadata": {},
   "outputs": [],
   "source": [
    "country_df = pd.DataFrame(countries, columns =['Country'])\n",
    "year_df = pd.DataFrame(list(range(1980, 2022)), columns =['Year'])\n",
    "\n",
    "countries_df = country_df.merge(year_df, how='cross')"
   ]
  },
  {
   "cell_type": "code",
   "execution_count": null,
   "metadata": {},
   "outputs": [],
   "source": []
  },
  {
   "cell_type": "markdown",
   "metadata": {},
   "source": [
    "## Filling the Dataframes (Splitting, Aggregation, Counting, ...)"
   ]
  },
  {
   "cell_type": "code",
   "execution_count": null,
   "metadata": {},
   "outputs": [],
   "source": [
    "data"
   ]
  },
  {
   "cell_type": "code",
   "execution_count": null,
   "metadata": {},
   "outputs": [],
   "source": [
    "data.dtypes"
   ]
  },
  {
   "cell_type": "markdown",
   "metadata": {},
   "source": [
    "### Preprocess data types:\n",
    "\n"
   ]
  },
  {
   "cell_type": "code",
   "execution_count": null,
   "metadata": {},
   "outputs": [],
   "source": [
    "# Convert all \"--\" and \"ie\" into NaN\n",
    "\n",
    "data = data.replace(\"--\", np.nan)\n",
    "data = data.replace(\"ie\", np.nan)"
   ]
  },
  {
   "cell_type": "code",
   "execution_count": null,
   "metadata": {},
   "outputs": [],
   "source": [
    "# Convert Country, Region and Features into categorical data\n",
    "\n",
    "data[\"Country\"] = data[\"Country\"].apply(lambda x: x.strip()).astype(\"category\")\n",
    "data[\"Region\"] = data[\"Region\"].apply(lambda x: x.strip()).astype(\"category\")\n",
    "data[\"Features\"] = data[\"Features\"].apply(lambda x: x.strip()).astype(\"category\")"
   ]
  },
  {
   "cell_type": "code",
   "execution_count": null,
   "metadata": {},
   "outputs": [],
   "source": [
    "# Convert all other columns into float\n",
    "\n",
    "data.iloc[:, 3:] = data.iloc[:, 3:].astype(\"float\")"
   ]
  },
  {
   "cell_type": "code",
   "execution_count": null,
   "metadata": {},
   "outputs": [],
   "source": [
    "data.dtypes"
   ]
  },
  {
   "cell_type": "markdown",
   "metadata": {},
   "source": [
    "### Splitting:"
   ]
  },
  {
   "cell_type": "code",
   "execution_count": null,
   "metadata": {},
   "outputs": [],
   "source": [
    "data[\"Features\"].unique()"
   ]
  },
  {
   "cell_type": "code",
   "execution_count": null,
   "metadata": {},
   "outputs": [],
   "source": [
    "data.sort_values(by=['Country'], inplace=True)"
   ]
  },
  {
   "cell_type": "code",
   "execution_count": null,
   "metadata": {},
   "outputs": [],
   "source": [
    "data_net_generation = data[data[\"Features\"] == \"net generation\"].copy()\n",
    "data_net_comsumption = data[data[\"Features\"] == \"net consumption\"].copy()\n",
    "data_imports = data[data[\"Features\"] == \"imports\"].copy()\n",
    "data_exports = data[data[\"Features\"] == \"exports\"].copy()\n",
    "data_net_imports = data[data[\"Features\"] == \"net imports\"].copy()\n",
    "data_installed_capacity = data[data[\"Features\"] == \"installed capacity\"].copy()\n",
    "data_distribution_losses = data[data[\"Features\"] == \"distribution losses\"].copy()"
   ]
  },
  {
   "cell_type": "code",
   "execution_count": null,
   "metadata": {},
   "outputs": [],
   "source": [
    "data_net_generation.drop(columns=[\"Features\"], inplace=True)\n",
    "data_net_comsumption.drop(columns=[\"Features\"], inplace=True)\n",
    "data_imports.drop(columns=[\"Features\"], inplace=True)\n",
    "data_exports.drop(columns=[\"Features\"], inplace=True)\n",
    "data_net_imports.drop(columns=[\"Features\"], inplace=True)\n",
    "data_installed_capacity.drop(columns=[\"Features\"], inplace=True)\n",
    "data_distribution_losses.drop(columns=[\"Features\"], inplace=True)\n",
    "\n",
    "data_net_generation.reset_index(drop=True, inplace=True)\n",
    "data_net_comsumption.reset_index(drop=True, inplace=True)\n",
    "data_imports.reset_index(drop=True, inplace=True)\n",
    "data_exports.reset_index(drop=True, inplace=True)\n",
    "data_net_imports.reset_index(drop=True, inplace=True)\n",
    "data_installed_capacity.reset_index(drop=True, inplace=True)\n",
    "data_distribution_losses.reset_index(drop=True, inplace=True)"
   ]
  },
  {
   "cell_type": "code",
   "execution_count": null,
   "metadata": {},
   "outputs": [],
   "source": [
    "data_net_generation[data_net_generation[\"Country\"].str.contains(\"Belarus\")]"
   ]
  },
  {
   "cell_type": "markdown",
   "metadata": {},
   "source": [
    "### Basic plots:"
   ]
  },
  {
   "cell_type": "code",
   "execution_count": null,
   "metadata": {},
   "outputs": [],
   "source": [
    "## Get the generation for countries for a given year:\n",
    "\n",
    "year = 2021\n",
    "\n",
    "data_net_generation_year = data_net_generation.filter([\"Country\", str(year)], axis=1).copy()\n",
    "data_net_generation_year.rename(columns={str(year): \"Net_Generation\"}, inplace=True)\n",
    "\n",
    "## We need to filter out NA values\n",
    "# data_net_generation_year[\"Net_Generation\"].dropna(inplace=True)\n",
    "\n",
    "country = coco.convert(names = data_net_generation_year['Country'], to = \"ISO3\")\n",
    "data_net_generation_year['Country_Short'] = country\n",
    "data_net_generation_year.head()\n",
    "\n",
    "fig = px.choropleth(data_frame=data_net_generation_year,\n",
    "                    locations = \"Country_Short\",\n",
    "                    color = \"Net_Generation\",\n",
    "                    range_color=(0, max(data_net_generation_year[\"Net_Generation\"])),\n",
    "                    color_continuous_scale = [[0, '#0d0887'],\n",
    "                      [0.01, '#46039f'],\n",
    "                      [0.03, '#7201a8'],\n",
    "                      [0.5, '#9c179e'],\n",
    "                      [0.7, '#bd3786'],\n",
    "                      [0.9, '#d8576b'],\n",
    "                      [1, '#ed7953']\n",
    "                     ],\n",
    "                    #  focus='south america',\n",
    "                    title = f'Global Electricity Generation in {year}',\n",
    "                    hover_name = \"Country\",\n",
    "                    hover_data = [\"Net_Generation\"],)\n",
    "fig.update_layout(height=500, width=800)\n",
    "fig.show()"
   ]
  },
  {
   "cell_type": "code",
   "execution_count": null,
   "metadata": {},
   "outputs": [],
   "source": [
    "data[\"Features\"].unique()"
   ]
  },
  {
   "cell_type": "code",
   "execution_count": null,
   "metadata": {},
   "outputs": [],
   "source": [
    "def get_map(year: int, feature_type: str):\n",
    "    data_feature: pd.DataFrame = data[data[\"Features\"] == feature_type].copy()\n",
    "    data_feature.drop(columns=[\"Features\"], inplace=True)\n",
    "    data_feature.reset_index(drop=True, inplace=True)\n",
    "\n",
    "    data_feature_year = data_feature.filter([\"Country\", str(year)], axis=1).copy()\n",
    "    data_feature_year.rename(columns={str(year): feature_type}, inplace=True)\n",
    "\n",
    "    country = coco.convert(names = data_feature_year['Country'], to = \"ISO3\")\n",
    "    data_feature_year['Country_Short'] = country\n",
    "\n",
    "    fig = px.choropleth(data_frame=data_feature_year,\n",
    "                        locations = \"Country_Short\",\n",
    "                        color = feature_type,\n",
    "                        range_color=(0, max(data_feature_year[feature_type])),\n",
    "                        color_continuous_scale = [[0, '#0d0887'],\n",
    "                        [0.01, '#46039f'],\n",
    "                        [0.03, '#7201a8'],\n",
    "                        [0.5, '#9c179e'],\n",
    "                        [0.7, '#bd3786'],\n",
    "                        [0.9, '#d8576b'],\n",
    "                        [1, '#ed7953']\n",
    "                        ],\n",
    "                        #  focus='south america',\n",
    "                        title = f'Global Electricity {feature_type} in {year}',\n",
    "                        hover_name = \"Country\",\n",
    "                        hover_data = [feature_type],)\n",
    "    fig.update_layout(height=500, width=800)\n",
    "    return fig\n",
    "\n",
    "get_map(2021, \"net imports\")"
   ]
  },
  {
   "cell_type": "code",
   "execution_count": null,
   "metadata": {},
   "outputs": [],
   "source": [
    "from dash import Dash, html, dcc, Input, Output, dash_table\n",
    "\n",
    "app = Dash(__name__)\n",
    "\n",
    "#*******APP LAYOUT**************\n",
    "\n",
    "app.layout = html.Div(\n",
    "\n",
    "    style={'backgroundColor':'#323130',\n",
    "        'height': '100%',\n",
    "        'color': 'white',\n",
    "        'margin': 0,\n",
    "        'padding': '15px' \n",
    "    }, \n",
    "\n",
    "    children=[\n",
    "        html.H1(\n",
    "            children='Global Electricity Statistics',\n",
    "            style={\n",
    "                'textAlign': 'center',\n",
    "                'color': 'white'\n",
    "            }\n",
    "        ),\n",
    "\n",
    "        html.Div(children='''Dash: A web application framework for Python.''',\n",
    "                style={\n",
    "                    'textAlign': 'center',\n",
    "                    'color': 'white'\n",
    "                }\n",
    "        ),\n",
    "\n",
    "        dcc.Dropdown(\n",
    "            id='country_dropdown',\n",
    "            options=[{'label': i, 'value': i} for i in countries],\n",
    "            value='United States of America'\n",
    "        ),\n",
    "\n",
    "        html.Div(children=[\n",
    "            'Content type:', \n",
    "            dcc.RadioItems(data[\"Features\"].unique(), #options\n",
    "                           'net generation', #\n",
    "                           id='content',\n",
    "                           inline=True)],\n",
    "            style={'width': '100%', 'display': 'inline-flex'}\n",
    "        ),\n",
    "\n",
    "        dcc.Graph(\n",
    "            id='graph',\n",
    "            figure=fig\n",
    "        ),\n",
    "\n",
    "        dcc.Markdown('**Years**'),\n",
    "        html.Div([\n",
    "            dcc.Slider(1980, 2021, step = 1, value=2021, id='slider',\n",
    "                    marks={i: '{}'.format(i) for i in range(1980,2021,10)},\n",
    "                    tooltip={'placement': 'bottom', 'always_visible': True})\n",
    "            ], \n",
    "        )\n",
    "    ],\n",
    ")\n",
    "\n",
    "#**************FUNCTIONS*****************************\n",
    "\n",
    "def get_map(year: int, feature_type: str):\n",
    "    data_feature: pd.DataFrame = data[data[\"Features\"] == feature_type].copy()\n",
    "    data_feature.drop(columns=[\"Features\"], inplace=True)\n",
    "    data_feature.reset_index(drop=True, inplace=True)\n",
    "\n",
    "    data_feature_year = data_feature.filter([\"Country\", str(year)], axis=1).copy()\n",
    "    data_feature_year.rename(columns={str(year): feature_type}, inplace=True)\n",
    "\n",
    "    country = coco.convert(names = data_feature_year['Country'], to = \"ISO3\")\n",
    "    data_feature_year['Country_Short'] = country\n",
    "\n",
    "    fig = px.choropleth(data_frame=data_feature_year,\n",
    "                        locations = \"Country_Short\",\n",
    "                        color = feature_type,\n",
    "                        range_color=(0, max(data_feature_year[feature_type])),\n",
    "                        color_continuous_scale = [[0, '#0d0887'],\n",
    "                        [0.01, '#46039f'],\n",
    "                        [0.03, '#7201a8'],\n",
    "                        [0.5, '#9c179e'],\n",
    "                        [0.7, '#bd3786'],\n",
    "                        [0.9, '#d8576b'],\n",
    "                        [1, '#ed7953']\n",
    "                        ],\n",
    "                        #  focus='south america',\n",
    "                        title = f'Global Electricity {feature_type} in {year}',\n",
    "                        hover_name = \"Country\",\n",
    "                        hover_data = [feature_type],)\n",
    "    fig.update_layout(height=500, width=800)\n",
    "    return fig\n",
    "\n",
    "#*************CALLBACKS*****************************************\n",
    "\n",
    "#radio/slider->map\n",
    "@app.callback(\n",
    "    Output('graph', 'figure'),\n",
    "    Input('slider', 'value'),\n",
    "    Input('content', 'value')\n",
    ")\n",
    "def update_map(year, feature_type):\n",
    "    fig = get_map(year, feature_type)\n",
    "    return fig\n",
    "\n",
    "#timeline->slider\n",
    "\"\"\"@app.callback(\n",
    "    Output('slider', 'value'),\n",
    "    Input('timeline', 'clickData')\n",
    ")\n",
    "def update_year(clickData):\n",
    "    year = 2021\n",
    "    if clickData is not None:\n",
    "        year = clickData['points'][0]['x']\n",
    "    return year\n",
    "\"\"\"\n",
    "\n",
    "#********RUNNING THE APP*************************************************\n",
    "if __name__ == '__main__':\n",
    "    app.run_server(debug=True, port=\"8999\") # inline/tab/external jupyter_mode=\"external\", "
   ]
  },
  {
   "cell_type": "code",
   "execution_count": null,
   "metadata": {},
   "outputs": [],
   "source": []
  }
 ],
 "metadata": {
  "kernelspec": {
   "display_name": "Python 3",
   "language": "python",
   "name": "python3"
  },
  "language_info": {
   "codemirror_mode": {
    "name": "ipython",
    "version": 3
   },
   "file_extension": ".py",
   "mimetype": "text/x-python",
   "name": "python",
   "nbconvert_exporter": "python",
   "pygments_lexer": "ipython3",
   "version": "3.9.13"
  }
 },
 "nbformat": 4,
 "nbformat_minor": 2
}
