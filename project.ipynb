{
 "cells": [
  {
   "cell_type": "markdown",
   "metadata": {},
   "source": [
    "# Global energy statistics visualisation\n",
    "\n",
    "This jupyter notebook has been created to visualise the global energy statistics dataset from this kaggle dataset: https://www.kaggle.com/datasets/akhiljethwa/global-electricity-statistics/"
   ]
  },
  {
   "cell_type": "markdown",
   "metadata": {},
   "source": [
    "## Module Loading and Data Import"
   ]
  },
  {
   "cell_type": "code",
   "execution_count": null,
   "metadata": {},
   "outputs": [],
   "source": [
    "# For Data Analysis\n",
    "import numpy as np\n",
    "import pandas as pd\n",
    "import matplotlib.pyplot as plt\n",
    "import seaborn as sns\n",
    "\n",
    "# For Data Visualization\n",
    "import plotly.express as px\n",
    "import plotly.io as pio\n",
    "\n",
    "# Addidtional Imports\n",
    "from termcolor import colored\n",
    "import country_converter as coco\n",
    "import datetime\n",
    "import calendar\n",
    "import json"
   ]
  },
  {
   "cell_type": "code",
   "execution_count": null,
   "metadata": {},
   "outputs": [],
   "source": [
    "# Set Plotly Template\n",
    "pio.templates.default = \"plotly_dark\""
   ]
  },
  {
   "cell_type": "code",
   "execution_count": null,
   "metadata": {},
   "outputs": [],
   "source": [
    "data = pd.read_csv(\"./data/Global Electricity Statistics.csv\")\n",
    "#map_json = json.load(open(\"./data/countries.json\", \"r\"))"
   ]
  },
  {
   "cell_type": "markdown",
   "metadata": {},
   "source": [
    "## Preparing dataframes"
   ]
  },
  {
   "cell_type": "markdown",
   "metadata": {},
   "source": [
    "For our visualization we will need to preprocess our data a little.\n",
    "\n",
    "**Get list of countries from geojson and prepare dataframe with Country and Year columns**\n",
    "\n",
    "To get countries:\n",
    "- iterate over \"features\" in map gejson and extract \"geounit\" name form feature's \"properties\"\n",
    "- use set() to remove possible duplicates\n",
    "- you can use asterisk (*) to unpack iterables into a list\n",
    "- sort countries by name "
   ]
  },
  {
   "cell_type": "code",
   "execution_count": null,
   "metadata": {},
   "outputs": [],
   "source": [
    "# countries = []\n",
    "# \n",
    "# for feature in map_json[\"features\"]:\n",
    "#       countries.append(feature[\"properties\"][\"geounit\"])\n",
    "# \n",
    "# countries=[*set(countries)]\n",
    "# countries.sort()"
   ]
  },
  {
   "cell_type": "markdown",
   "metadata": {},
   "source": [
    "Now lets create dataframe, that will have columns Country and Year and **one row for every country-year combination in years 1942-2022** (those present in the dataset).\n",
    "We can get this by:\n",
    "- creating dataframe with countries (just turn the list into df)\n",
    "- creating dataframe with years (creat list of years and turn it to df)\n",
    "- creating a Caretsian product of the two dataframes"
   ]
  },
  {
   "cell_type": "code",
   "execution_count": null,
   "metadata": {},
   "outputs": [],
   "source": [
    "# country_df = pd.DataFrame(countries, columns =['Country'])\n",
    "# year_df = pd.DataFrame(list(range(1980, 2022)), columns =['Year'])\n",
    "# \n",
    "# countries_df = country_df.merge(year_df, how='cross')"
   ]
  },
  {
   "cell_type": "markdown",
   "metadata": {},
   "source": [
    "## Filling the Dataframes (Splitting, Aggregation, Counting, ...)"
   ]
  },
  {
   "cell_type": "code",
   "execution_count": null,
   "metadata": {},
   "outputs": [],
   "source": [
    "data"
   ]
  },
  {
   "cell_type": "code",
   "execution_count": null,
   "metadata": {},
   "outputs": [],
   "source": [
    "data.dtypes"
   ]
  },
  {
   "cell_type": "code",
   "execution_count": null,
   "metadata": {},
   "outputs": [],
   "source": [
    "melted_df = pd.melt(data, id_vars=['Country', 'Region', \"Features\"], var_name='Year', value_name='Value')\n",
    "\n",
    "melted_df"
   ]
  },
  {
   "cell_type": "code",
   "execution_count": null,
   "metadata": {},
   "outputs": [],
   "source": [
    "# Step 4: Rename the columns\n",
    "melted_df.columns = ['Country', 'Region', 'Features', 'Year', 'Value']\n",
    "\n",
    "# Now 'melted_df' should have the desired transposed format\n",
    "melted_df"
   ]
  },
  {
   "cell_type": "markdown",
   "metadata": {},
   "source": [
    "### Preprocess data types:\n",
    "\n"
   ]
  },
  {
   "cell_type": "code",
   "execution_count": null,
   "metadata": {},
   "outputs": [],
   "source": [
    "data = melted_df"
   ]
  },
  {
   "cell_type": "code",
   "execution_count": null,
   "metadata": {},
   "outputs": [],
   "source": [
    "# Convert all \"--\" and \"ie\" into NaN\n",
    "\n",
    "data = data.replace(\"--\", np.nan)\n",
    "data = data.replace(\"ie\", np.nan)"
   ]
  },
  {
   "cell_type": "code",
   "execution_count": null,
   "metadata": {},
   "outputs": [],
   "source": [
    "# Convert Country, Region and Features into categorical data\n",
    "\n",
    "data[\"Country\"] = data[\"Country\"].apply(lambda x: x.strip()).astype(\"category\")\n",
    "data[\"Region\"] = data[\"Region\"].apply(lambda x: x.strip()).astype(\"category\")\n",
    "data[\"Features\"] = data[\"Features\"].apply(lambda x: x.strip()).astype(\"category\")\n",
    "data[\"Year\"] = data[\"Year\"].astype(\"category\")\n",
    "data[\"Value\"] = data[\"Value\"].astype(\"float\")"
   ]
  },
  {
   "cell_type": "code",
   "execution_count": null,
   "metadata": {},
   "outputs": [],
   "source": [
    "# Pivot the dataframe to get the desired format\n",
    "new_df = data.set_index(['Country', 'Region', 'Year', 'Features']).unstack('Features').reset_index()\n",
    "\n",
    "# Flatten the multi-level column index\n",
    "new_df.columns = [col[1] if col[1] else col[0] for col in new_df.columns]\n",
    "\n",
    "# Display the resulting dataframe\n",
    "new_df"
   ]
  },
  {
   "cell_type": "code",
   "execution_count": null,
   "metadata": {},
   "outputs": [],
   "source": [
    "country_names_unique = new_df[\"Country\"].unique()"
   ]
  },
  {
   "cell_type": "code",
   "execution_count": null,
   "metadata": {},
   "outputs": [],
   "source": [
    "new_df.dtypes"
   ]
  },
  {
   "cell_type": "code",
   "execution_count": null,
   "metadata": {},
   "outputs": [],
   "source": [
    "data.dtypes"
   ]
  },
  {
   "cell_type": "code",
   "execution_count": null,
   "metadata": {},
   "outputs": [],
   "source": [
    "# Rename countries \n",
    "\n",
    "data[\"Country\"] = data[\"Country\"].replace(\"Former U.S.S.R.\", \"USSR\")"
   ]
  },
  {
   "cell_type": "code",
   "execution_count": null,
   "metadata": {},
   "outputs": [],
   "source": [
    "data.dtypes"
   ]
  },
  {
   "cell_type": "markdown",
   "metadata": {},
   "source": [
    "### Splitting:"
   ]
  },
  {
   "cell_type": "code",
   "execution_count": null,
   "metadata": {},
   "outputs": [],
   "source": [
    "data[\"Features\"].unique()"
   ]
  },
  {
   "cell_type": "code",
   "execution_count": null,
   "metadata": {},
   "outputs": [],
   "source": [
    "data.sort_values(by=['Country'], inplace=True)"
   ]
  },
  {
   "cell_type": "code",
   "execution_count": null,
   "metadata": {},
   "outputs": [],
   "source": [
    "data_net_generation = data[data[\"Features\"] == \"net generation\"].copy()\n",
    "data_net_comsumption = data[data[\"Features\"] == \"net consumption\"].copy()\n",
    "data_imports = data[data[\"Features\"] == \"imports\"].copy()\n",
    "data_exports = data[data[\"Features\"] == \"exports\"].copy()\n",
    "data_net_imports = data[data[\"Features\"] == \"net imports\"].copy()\n",
    "data_installed_capacity = data[data[\"Features\"] == \"installed capacity\"].copy()\n",
    "data_distribution_losses = data[data[\"Features\"] == \"distribution losses\"].copy()"
   ]
  },
  {
   "cell_type": "code",
   "execution_count": null,
   "metadata": {},
   "outputs": [],
   "source": [
    "data_net_generation.drop(columns=[\"Features\"], inplace=True)\n",
    "data_net_comsumption.drop(columns=[\"Features\"], inplace=True)\n",
    "data_imports.drop(columns=[\"Features\"], inplace=True)\n",
    "data_exports.drop(columns=[\"Features\"], inplace=True)\n",
    "data_net_imports.drop(columns=[\"Features\"], inplace=True)\n",
    "data_installed_capacity.drop(columns=[\"Features\"], inplace=True)\n",
    "data_distribution_losses.drop(columns=[\"Features\"], inplace=True)\n",
    "\n",
    "data_net_generation.reset_index(drop=True, inplace=True)\n",
    "data_net_comsumption.reset_index(drop=True, inplace=True)\n",
    "data_imports.reset_index(drop=True, inplace=True)\n",
    "data_exports.reset_index(drop=True, inplace=True)\n",
    "data_net_imports.reset_index(drop=True, inplace=True)\n",
    "data_installed_capacity.reset_index(drop=True, inplace=True)\n",
    "data_distribution_losses.reset_index(drop=True, inplace=True)"
   ]
  },
  {
   "cell_type": "code",
   "execution_count": null,
   "metadata": {},
   "outputs": [],
   "source": [
    "data_distribution_losses"
   ]
  },
  {
   "cell_type": "code",
   "execution_count": null,
   "metadata": {},
   "outputs": [],
   "source": [
    "data_net_generation[data_net_generation[\"Country\"] == \"Belarus\"]"
   ]
  },
  {
   "cell_type": "markdown",
   "metadata": {},
   "source": [
    "There are some problems with renaming, specifically:\n",
    "\n",
    "- Former Serbia and Montenegro not found in regex\n",
    "- USSR not found in regex\n",
    "- Former Yugoslavia not found in regex\n",
    "- Germany, East not found in regex\n",
    "- Germany, West not found in regex\n",
    "- Hawaiian Trade Zone not found in regex\n",
    "- Netherlands Antilles not found in regex\n",
    "- U.S. Pacific Islands not found in regex\n",
    "- U.S. Territories not found in regex\n",
    "- Wake Island not found in regex"
   ]
  },
  {
   "cell_type": "code",
   "execution_count": null,
   "metadata": {},
   "outputs": [],
   "source": [
    "countries_short = coco.convert(names = data_net_generation['Country'], to='name_short')\n",
    "country_iso3 = coco.convert(names = data_net_generation['Country'], to = \"ISO3\")"
   ]
  },
  {
   "cell_type": "markdown",
   "metadata": {},
   "source": [
    "# TODO : Add data for "
   ]
  },
  {
   "cell_type": "markdown",
   "metadata": {},
   "source": [
    "### Basic plots:"
   ]
  },
  {
   "cell_type": "code",
   "execution_count": null,
   "metadata": {},
   "outputs": [],
   "source": [
    "def get_map_prototype(year: int, feature_type: str):\n",
    "    data_feature: pd.DataFrame = data[data[\"Features\"] == feature_type].copy()\n",
    "    data_feature.drop(columns=[\"Features\"], inplace=True)\n",
    "    data_feature.reset_index(drop=True, inplace=True)\n",
    "\n",
    "    data_feature['Country_Short'] = country_iso3\n",
    "\n",
    "    fig = px.choropleth(data_frame=data_feature,\n",
    "                        locations = \"Country_Short\",\n",
    "                        color = \"Value\",\n",
    "                        range_color=(min(data_feature['Value']), max(data_feature[\"Value\"])),\n",
    "                        color_continuous_scale = [[0, '#0d0887'],\n",
    "                        [0.01, '#46039f'],\n",
    "                        [0.03, '#7201a8'],\n",
    "                        [0.5, '#9c179e'],\n",
    "                        [0.7, '#bd3786'],\n",
    "                        [0.9, '#d8576b'],\n",
    "                        [1, '#ed7953']\n",
    "                        ],\n",
    "                        #  focus='south america',\n",
    "                        title = f'Global Electricity {feature_type} in {year}',\n",
    "                        hover_name = \"Country\",\n",
    "                        hover_data = [\"Value\"],)\n",
    "    fig.update_layout(height=500, width=800)\n",
    "    return fig\n",
    "\n",
    "get_map_prototype(2021, \"net imports\")"
   ]
  },
  {
   "cell_type": "code",
   "execution_count": null,
   "metadata": {},
   "outputs": [],
   "source": [
    "timeline = new_df[new_df[\"Country\"] == \"Afghanistan\"].copy()\n",
    "\n",
    "bars = px.bar(timeline, x=\"Year\", y=['net generation', 'net consumption', 'imports', 'exports', 'net imports', 'installed capacity', 'distribution losses'], \n",
    "              color_discrete_sequence=[\"white\", \"red\", \"blue\", \"green\", \"orange\", \"pink\", \"brown\"], title=\"Afghanistan's Net Generation\",\n",
    "              barmode='group')\n",
    "\n",
    "bars.update_layout(\n",
    "    xaxis = dict(\n",
    "        tickmode = 'linear',\n",
    "        tick0 = 1980,\n",
    "        dtick = 1\n",
    "    )\n",
    ")\n",
    "\n",
    "bars.show()"
   ]
  },
  {
   "cell_type": "code",
   "execution_count": null,
   "metadata": {},
   "outputs": [],
   "source": [
    "def get_barplot_for_country_year_prototype(country: str):\n",
    "    timeline = new_df[new_df[\"Country\"] == country].copy()\n",
    "    bars = px.bar(timeline, x=\"Year\", y=['net generation', 'net consumption', 'imports', 'exports', 'net imports', 'installed capacity', 'distribution losses'], \n",
    "              color_discrete_sequence=[\"white\", \"red\", \"blue\", \"green\", \"orange\", \"pink\", \"brown\"], title=f\"{country}'s Net Generation\",\n",
    "              barmode='group')\n",
    "    bars.update_layout(\n",
    "        xaxis = dict(\n",
    "            tickmode = 'linear',\n",
    "            tick0 = 1980,\n",
    "            dtick = 1\n",
    "        )\n",
    "    )\n",
    "    return bars\n",
    "\n",
    "get_barplot_for_country_year_prototype(\"Afghanistan\")"
   ]
  },
  {
   "cell_type": "markdown",
   "metadata": {},
   "source": [
    "# Main dashly app"
   ]
  },
  {
   "cell_type": "code",
   "execution_count": null,
   "metadata": {},
   "outputs": [],
   "source": [
    "from dash import Dash, html, dcc, Input, Output, dash_table, State, callback_context, no_update\n",
    "\n",
    "app = Dash(__name__, suppress_callback_exceptions=True)\n",
    "\n",
    "#*******APP LAYOUT**************\n",
    "\n",
    "app.layout = html.Div(\n",
    "\n",
    "    style={'backgroundColor':'#323130',\n",
    "        'height': '100%',\n",
    "        'color': 'white',\n",
    "        'margin': 0,\n",
    "        'padding': '15px' \n",
    "    }, \n",
    "\n",
    "    children=[\n",
    "        html.H1(\n",
    "            children='Global Electricity Statistics',\n",
    "            style={\n",
    "                'textAlign': 'center',\n",
    "                'color': 'white'\n",
    "            }\n",
    "        ),\n",
    "\n",
    "        html.Div(children='''Dash: A web application framework for Python.''',\n",
    "                style={\n",
    "                    'textAlign': 'center',\n",
    "                    'color': 'white'\n",
    "                }\n",
    "        ),\n",
    "\n",
    "        dcc.Dropdown(\n",
    "            id='country_dropdown',\n",
    "            options=[{'label': i, 'value': i} for i in country_names_unique],\n",
    "            value='Belgium',\n",
    "            style={'color': 'black'}\n",
    "        ),\n",
    "\n",
    "        html.Div([\n",
    "            \n",
    "            dcc.Graph(\n",
    "                id='main_map',\n",
    "                #figure=fig,\n",
    "                style={'width': '100%', 'display': 'inline-block'}\n",
    "            ),\n",
    "        \n",
    "        ], id=\"main_component\"),\n",
    "        \n",
    "        html.Div(id=\"controls\", children= [    \n",
    "            html.Div([\n",
    "                html.Div([\n",
    "                    dcc.Markdown('**Features**'),\n",
    "                    dcc.Dropdown(options=[{'label': feat, 'value': feat} for feat in data[\"Features\"]],\n",
    "                                value='net generation',\n",
    "                                id='feature_type',\n",
    "                                style={'color': 'black'}),\n",
    "                ], style={'width': '20%', 'display': 'inline-block', 'margin-right': '2%'}),\n",
    "\n",
    "                html.Div([\n",
    "                    dcc.Markdown('**Years**'),\n",
    "                    dcc.Slider(1980, 2021, step=1, value=2021, id='slider',\n",
    "                            marks={i: '{}'.format(i) for i in range(1980, 2021, 10)},\n",
    "                            tooltip={'placement': 'bottom', 'always_visible': True}),\n",
    "                ], style={'width': '55%', 'display': 'inline-block', 'margin-right': '2%'}),\n",
    "\n",
    "                html.Div([\n",
    "                    html.Button('Compare countries', id='comparison_button', style={'margin-right': '5%', 'height': '100%'}),\n",
    "                    html.Button('Main map mode', id='main_map_button', style={'height': '100%'}),\n",
    "                ], style={'width': '20%', 'display': 'inline-block'}),\n",
    "            ], style={'height': '100vh'}),\n",
    "        ]),\n",
    "    ],\n",
    ")\n",
    "\n",
    "#**************FUNCTIONS*****************************\n",
    "\n",
    "def get_map(year: int, feature_type: str):\n",
    "    if year is None:\n",
    "        year = 2021\n",
    "        \n",
    "    if feature_type is None:\n",
    "        feature_type = \"net generation\"\n",
    "    \n",
    "    data_feature: pd.DataFrame = data[data[\"Features\"] == feature_type].copy()\n",
    "    data_feature.drop(columns=[\"Features\"], inplace=True)\n",
    "    data_feature.reset_index(drop=True, inplace=True)\n",
    "\n",
    "    data_feature['Country_Short'] = country_iso3\n",
    "\n",
    "    fig = px.choropleth(data_frame=data_feature,\n",
    "                        locations = \"Country_Short\",\n",
    "                        color = \"Value\",\n",
    "                        range_color=(min(data_feature['Value']), max(data_feature[\"Value\"])),\n",
    "                        color_continuous_scale = [[0, '#0d0887'],\n",
    "                        [0.01, '#46039f'],\n",
    "                        [0.03, '#7201a8'],\n",
    "                        [0.5, '#9c179e'],\n",
    "                        [0.7, '#bd3786'],\n",
    "                        [0.9, '#d8576b'],\n",
    "                        [1, '#ed7953']\n",
    "                        ],\n",
    "                        #  focus='south america',\n",
    "                        title = f'Global Electricity {feature_type} in {year}',\n",
    "                        hover_name = \"Country\",\n",
    "                        hover_data = [\"Value\"],)\n",
    "    fig.update_layout(height=500, width=800)\n",
    "    return fig\n",
    "\n",
    "def get_barplot_for_country_year(country: str):\n",
    "    if country is None:\n",
    "        country = \"Belgium\"\n",
    "    \n",
    "    timeline = new_df[new_df[\"Country\"] == country].copy()\n",
    "    bars = px.bar(timeline, x=\"Year\", y=['net generation', 'net consumption', 'imports', 'exports', 'net imports', 'installed capacity', 'distribution losses'], \n",
    "              color_discrete_sequence=[\"white\", \"red\", \"blue\", \"green\", \"orange\", \"pink\", \"brown\"], title=f\"{country}'s Net Generation\",\n",
    "              barmode='group')\n",
    "    bars.update_layout(\n",
    "        xaxis = dict(\n",
    "            tickmode = 'linear',\n",
    "            tick0 = 1980,\n",
    "            dtick = 1\n",
    "        )\n",
    "    )\n",
    "    return bars\n",
    "\n",
    "#*************CALLBACKS*****************************************\n",
    "\n",
    "#radio/slider->map\n",
    "@app.callback(\n",
    "    Output('main_map', 'figure'),\n",
    "    Input('slider', 'value'),\n",
    "    Input('feature_type', 'value')\n",
    ")\n",
    "def update_map(year, feature_type):\n",
    "    fig = get_map(year, feature_type)\n",
    "    return fig\n",
    "\n",
    "\n",
    "@app.callback(\n",
    "    Output('country_features_over_time', 'figure'),\n",
    "    Input('country_dropdown', 'value')\n",
    ")\n",
    "def update_country_features_over_time(country):\n",
    "    fig = get_barplot_for_country_year(country)\n",
    "    return fig\n",
    "\n",
    "\"\"\"\n",
    "@app.callback(Output('main_component', 'children'),\n",
    "              State('slider', 'value'),\n",
    "              Input('main_map', 'clickData'),\n",
    "              State('feature_type', 'value'))\n",
    "def country_specific_mode(clickData, selected_year, selected_feature):\n",
    "    print(clickData)\n",
    "    country = 'Belgium'\n",
    "    if clickData is not None:\n",
    "        country = clickData['points'][0]['location']\n",
    "    fig = get_barplot_for_country_year(country)\n",
    "    \n",
    "    map = get_map(2021, \"net generation\")\n",
    "    return [dcc.Graph(figure=fig, id='country_features_over_time'), dcc.Graph(figure=map, id='main_map')]\n",
    "\"\"\"\n",
    "\n",
    "@app.callback(\n",
    "    Output('main_component', 'children'),\n",
    "    Input('comparison_button', 'n_clicks'),\n",
    "    Input('main_map_button', 'n_clicks'),\n",
    "    Input('country_dropdown', 'value'),\n",
    "    State('slider', 'value'),\n",
    "    State('feature_type', 'value')\n",
    ")\n",
    "def update_main_component(compare_clicks, main_map_clicks, selected_country, selected_year, selected_feature):\n",
    "    print(\"update_main_component\")\n",
    "    print(compare_clicks)\n",
    "    print(main_map_clicks)\n",
    "    ctx = callback_context\n",
    "\n",
    "    if not ctx.triggered:\n",
    "        return no_update\n",
    "\n",
    "    button_id = ctx.triggered[0]['prop_id'].split('.')[0]\n",
    "\n",
    "    if button_id == 'comparison_button':\n",
    "        # Comparison mode\n",
    "        print(\"Comparison mode\")\n",
    "        fig = get_barplot_for_country_year(selected_country)\n",
    "        return dcc.Graph(figure=fig, id='country_features_over_time')\n",
    "    elif button_id == 'main_map_button':\n",
    "        # Main map mode\n",
    "        print(\"Main map mode\")\n",
    "        fig = get_map(selected_year, selected_feature)\n",
    "        return dcc.Graph(figure=fig, id='main_map')\n",
    "    else:\n",
    "        # Country-specific mode\n",
    "        print(\"Country-specific mode\")\n",
    "        fig = get_barplot_for_country_year(selected_country)\n",
    "        return dcc.Graph(figure=fig, id='country_features_over_time')\n",
    "\n",
    "\n",
    "\n",
    "#********RUNNING THE APP*************************************************\n",
    "if __name__ == '__main__':\n",
    "    app.run_server(debug=True, port=\"8999\", jupyter_mode=\"external\") # inline/tab/external jupyter_mode=\"external\", "
   ]
  },
  {
   "cell_type": "markdown",
   "metadata": {},
   "source": [
    "TODO:\n",
    "\n",
    "- Add country detail screen on country click \n",
    "- Add more graphs/components for the whole visualisation\n",
    "- Fixup the styling"
   ]
  },
  {
   "cell_type": "code",
   "execution_count": null,
   "metadata": {},
   "outputs": [],
   "source": []
  }
 ],
 "metadata": {
  "kernelspec": {
   "display_name": "Python 3",
   "language": "python",
   "name": "python3"
  },
  "language_info": {
   "codemirror_mode": {
    "name": "ipython",
    "version": 3
   },
   "file_extension": ".py",
   "mimetype": "text/x-python",
   "name": "python",
   "nbconvert_exporter": "python",
   "pygments_lexer": "ipython3",
   "version": "3.9.13"
  }
 },
 "nbformat": 4,
 "nbformat_minor": 2
}
